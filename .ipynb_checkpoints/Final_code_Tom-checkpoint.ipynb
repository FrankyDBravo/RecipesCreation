{
 "cells": [
  {
   "cell_type": "markdown",
   "metadata": {},
   "source": [
    "# Project - Food symphony 🥙\n",
    " <p><div class=\"lev1\"><a href=\"#1/-Introduction-of-the-structure\"><span class=\"toc-item-num\">1.&nbsp;&nbsp;</span>Introduction of the structure</a></div>\n",
    "  <div class=\"lev3\"><a href=\"#2/-Preprocessing-the-ingredients-data-(Missing-values,-upper-cases,-natural-language-processing)\"><span class=\"toc-item-num\">2.&nbsp;&nbsp;</span>Preprocessing the ingredients data (Missing values, upper cases, natural language processing)</a></div>\n",
    "  <div class=\"lev3\"><a href=\"#3/-Co-occurences-and-Covariance\"><span class=\"toc-item-num\">3.&nbsp;&nbsp;</span>Co-occurences and Covariance</a></div>\n",
    "  <div class=\"lev3\"><a href=\"#4/-Linear-Regression\"><span class=\"toc-item-num\">4.&nbsp;&nbsp;</span>Linear Regression</a></div>\n",
    "  <div class=\"lev3\"><a href=\"#5/-Compute-new-special-recipes\"><span class=\"toc-item-num\">5.&nbsp;&nbsp;</span>Compute new special recipes</a></div>"
   ]
  },
  {
   "cell_type": "markdown",
   "metadata": {},
   "source": [
    "## 1/ Introduction of the structure\n",
    "First of all, in this section, we remind and describe in detail the overall structure of the our project: the steps and the goals.\n",
    "\n",
    "The diagram below gives an illustrated overview:\n",
    "\n",
    "<img src=\"Structure.jpeg\" width=900>\n",
    "\n",
    "The diagram illustrates the work we have been doing until now for the food symphony project. The first part consists in filtering the raw data in order to get a clean data set where we could do some analysis and perform machine learning algorithms on it.\n",
    "\n",
    "The most important step in the first part of the project  and the most time consuming  was to design filters that enable us to get a proper data set to analyse. Indeed, we had to deal with a lot of different typos containing valid information. Instead of skipping data,  we did our best to drag out all the available information.\n",
    "\n",
    "The first filtering step was to deal with special characters and filter useless parenthesis. After this first filtering step, we decided to create 3 lists (cf list_creation.py) in order to select in the recepies the information about unit, ingredients and the technics to apply for each ingredient. The ingredients that didn’t have a valid name were not taken into account, the ones with a quantity 'x' but no valid unit were added as 'x unit'. \n",
    "The unit list, was created by hand, by checking information in Wikipedia. The techniques list was done by using the raw data, and taking all the verbs in the past tense. The ingredients list was create by web scraping. \n",
    "\n",
    "Once the filtering is done, we create a data frame with the ingredients as columns and the recipes as rows.\n",
    " We create the co-occurrence matrix and the covariance matrix to make a first analysis, and we will use them in order to create new recipes.\n",
    " \n",
    "Additionally, we generate a data frame containing unit weight by ingredient. This dataset will be very helpful to improve our current results in the prediction of nutrients information such as the recipe calories or cholesterol contempt, while using linear regression models.\n",
    "\n",
    "\n"
   ]
  },
  {
   "cell_type": "markdown",
   "metadata": {},
   "source": [
    "## Initializing data"
   ]
  },
  {
   "cell_type": "code",
   "execution_count": 1,
   "metadata": {},
   "outputs": [
    {
     "name": "stderr",
     "output_type": "stream",
     "text": [
      "/Users/jonathan/anaconda/lib/python3.6/importlib/_bootstrap.py:205: RuntimeWarning: compiletime version 3.5 of module 'tensorflow.python.framework.fast_tensor_util' does not match runtime version 3.6\n",
      "  return f(*args, **kwds)\n",
      "Using TensorFlow backend.\n"
     ]
    }
   ],
   "source": [
    "# ----- Librairies ----- #\n",
    "import pandas as pd\n",
    "import re\n",
    "import sys\n",
    "import numpy as np\n",
    "import nltk\n",
    "from nltk.corpus import wordnet as wn\n",
    "from nltk import pos_tag\n",
    "from nltk.tag import UnigramTagger\n",
    "from nltk.corpus import brown\n",
    "import webcolors\n",
    "from IPython.display import display\n",
    "import random\n",
    "from random import randint\n",
    "import time\n",
    "import emoji\n",
    "import json\n",
    "\n",
    "\n",
    "import tensorflow as tf\n",
    "from keras import regularizers\n",
    "from keras.constraints import maxnorm, nonneg\n",
    "from keras.models import Sequential\n",
    "from keras.layers import Dense\n",
    "from keras.utils import np_utils\n",
    "from keras import optimizers\n",
    "from sklearn.metrics import mean_absolute_error\n",
    "from sklearn.linear_model import LinearRegression\n",
    "from serving_scraping import *\n",
    "from str_functions import *\n",
    "from pre_process import *\n",
    "import matplotlib.pyplot as plt\n",
    "import math\n",
    "\n",
    "from sklearn.neighbors import NearestNeighbors\n",
    "\n",
    "# ----- Loading the dataset'recipeInfo_WestWhiteHorvitz_WWW2013.csv' ----- #\n",
    "data_file='recipeInfo_WestWhiteHorvitz_WWW2013_modified.csv'\n",
    "raw_data = pd.read_csv(data_file ,sep=';')"
   ]
  },
  {
   "cell_type": "markdown",
   "metadata": {},
   "source": [
    "### Vizualizing nutrients data \n",
    "Extract the nutrients from the dataset which will be used it the regression model in order to predict the nutrients informations from the dataset using machine learning models."
   ]
  },
  {
   "cell_type": "code",
   "execution_count": 2,
   "metadata": {},
   "outputs": [
    {
     "data": {
      "text/html": [
       "<div>\n",
       "<style>\n",
       "    .dataframe thead tr:only-child th {\n",
       "        text-align: right;\n",
       "    }\n",
       "\n",
       "    .dataframe thead th {\n",
       "        text-align: left;\n",
       "    }\n",
       "\n",
       "    .dataframe tbody tr th {\n",
       "        vertical-align: top;\n",
       "    }\n",
       "</style>\n",
       "<table border=\"1\" class=\"dataframe\">\n",
       "  <thead>\n",
       "    <tr style=\"text-align: right;\">\n",
       "      <th></th>\n",
       "      <th>title</th>\n",
       "      <th>ingredients_list</th>\n",
       "      <th>kcal_total</th>\n",
       "      <th>kcal_carb</th>\n",
       "      <th>kcal_fat</th>\n",
       "      <th>kcal_protein</th>\n",
       "      <th>mg_sodium</th>\n",
       "      <th>mg_cholesterol</th>\n",
       "    </tr>\n",
       "  </thead>\n",
       "  <tbody>\n",
       "    <tr>\n",
       "      <th>0</th>\n",
       "      <td>Easy Light Chocolate Milkshake Recipe</td>\n",
       "      <td>put one half cup of milk, 4 tablespoons of cho...</td>\n",
       "      <td>257.1</td>\n",
       "      <td>220</td>\n",
       "      <td>7.2</td>\n",
       "      <td>21.2</td>\n",
       "      <td>95.4</td>\n",
       "      <td>2.5</td>\n",
       "    </tr>\n",
       "    <tr>\n",
       "      <th>1</th>\n",
       "      <td>Lamb Stew Recipe : : Recipes : Food Network</td>\n",
       "      <td>5 yellow onions|2 turnips|5 carrots|1 stalk fe...</td>\n",
       "      <td>?</td>\n",
       "      <td>?</td>\n",
       "      <td>?</td>\n",
       "      <td>?</td>\n",
       "      <td>?</td>\n",
       "      <td>?</td>\n",
       "    </tr>\n",
       "    <tr>\n",
       "      <th>2</th>\n",
       "      <td>Chocolate Bread Pudding Recipe : Paula Deen : ...</td>\n",
       "      <td>1 (1-pound) loaf French or Italian bread, cube...</td>\n",
       "      <td>?</td>\n",
       "      <td>?</td>\n",
       "      <td>?</td>\n",
       "      <td>?</td>\n",
       "      <td>?</td>\n",
       "      <td>?</td>\n",
       "    </tr>\n",
       "    <tr>\n",
       "      <th>3</th>\n",
       "      <td>Snowball Cookies II Recipe</td>\n",
       "      <td>1/2 cup powdered sugar|1/3 cup butter or marga...</td>\n",
       "      <td>?</td>\n",
       "      <td>?</td>\n",
       "      <td>?</td>\n",
       "      <td>?</td>\n",
       "      <td>?</td>\n",
       "      <td>?</td>\n",
       "    </tr>\n",
       "    <tr>\n",
       "      <th>4</th>\n",
       "      <td>Old Fashioned Butterscotch Pie Recipe #31698</td>\n",
       "      <td>1 1/2 cup brown sugar|1 cup water|3 eggs|4 tab...</td>\n",
       "      <td>192</td>\n",
       "      <td>120</td>\n",
       "      <td>63</td>\n",
       "      <td>12</td>\n",
       "      <td>?</td>\n",
       "      <td>?</td>\n",
       "    </tr>\n",
       "  </tbody>\n",
       "</table>\n",
       "</div>"
      ],
      "text/plain": [
       "                                               title  \\\n",
       "0              Easy Light Chocolate Milkshake Recipe   \n",
       "1        Lamb Stew Recipe : : Recipes : Food Network   \n",
       "2  Chocolate Bread Pudding Recipe : Paula Deen : ...   \n",
       "3                         Snowball Cookies II Recipe   \n",
       "4       Old Fashioned Butterscotch Pie Recipe #31698   \n",
       "\n",
       "                                    ingredients_list kcal_total kcal_carb  \\\n",
       "0  put one half cup of milk, 4 tablespoons of cho...      257.1       220   \n",
       "1  5 yellow onions|2 turnips|5 carrots|1 stalk fe...          ?         ?   \n",
       "2  1 (1-pound) loaf French or Italian bread, cube...          ?         ?   \n",
       "3  1/2 cup powdered sugar|1/3 cup butter or marga...          ?         ?   \n",
       "4  1 1/2 cup brown sugar|1 cup water|3 eggs|4 tab...        192       120   \n",
       "\n",
       "  kcal_fat kcal_protein mg_sodium mg_cholesterol  \n",
       "0      7.2         21.2      95.4            2.5  \n",
       "1        ?            ?         ?              ?  \n",
       "2        ?            ?         ?              ?  \n",
       "3        ?            ?         ?              ?  \n",
       "4       63           12         ?              ?  "
      ]
     },
     "execution_count": 2,
     "metadata": {},
     "output_type": "execute_result"
    }
   ],
   "source": [
    "nutri_data=raw_data[['title','ingredients_list','kcal_total','kcal_carb','kcal_fat','kcal_protein','mg_sodium','mg_cholesterol']].copy()\n",
    "nutri_data.head(5)"
   ]
  },
  {
   "cell_type": "markdown",
   "metadata": {},
   "source": [
    "### Creating useful lists\n",
    "In the next section, we are loading lists (ingredient_list.txt, units_list.txt, technique_list.txt) which were created previously using the the functions in 'list_creation.py'."
   ]
  },
  {
   "cell_type": "code",
   "execution_count": 3,
   "metadata": {
    "collapsed": true
   },
   "outputs": [],
   "source": [
    "# ----- Initializing and loading the list of techniques, units and ingredients created previously ----- #\n",
    "with open('units_list.txt', 'r') as f: # List containing all kind of unit (grams, liters...)\n",
    "    units_list = [line.rstrip('\\n') for line in f]\n",
    "    \n",
    "with open('technique_list.txt', 'r') as f: # List containing preparation techniques\n",
    "    techniques_list = [line.rstrip('\\n') for line in f]\n",
    "\n",
    "with open('ingredient_list.txt', 'r') as f: # List of existing ingredients webscrapped on the web.\n",
    "    ingredient_list = [line.rstrip('\\n') for line in f]"
   ]
  },
  {
   "cell_type": "markdown",
   "metadata": {},
   "source": [
    "## 2/ Preprocessing the ingredients data (Missing values, upper cases, natural language processing)\n",
    "As recipes are from different websites, they were presented in different ways. Some of them were well structured and concise, while others had long descriptions with typos, special characters, and missing quantities.\n",
    "\n",
    "The preprocessing allows to extract each ingredient for a recipe as well as their quantities and techniques"
   ]
  },
  {
   "cell_type": "code",
   "execution_count": 44,
   "metadata": {},
   "outputs": [
    {
     "data": {
      "text/html": [
       "<div>\n",
       "<style>\n",
       "    .dataframe thead tr:only-child th {\n",
       "        text-align: right;\n",
       "    }\n",
       "\n",
       "    .dataframe thead th {\n",
       "        text-align: left;\n",
       "    }\n",
       "\n",
       "    .dataframe tbody tr th {\n",
       "        vertical-align: top;\n",
       "    }\n",
       "</style>\n",
       "<table border=\"1\" class=\"dataframe\">\n",
       "  <thead>\n",
       "    <tr style=\"text-align: right;\">\n",
       "      <th></th>\n",
       "      <th>title</th>\n",
       "      <th>url</th>\n",
       "      <th>ingredients_list</th>\n",
       "      <th>ingredients_bag-of-words</th>\n",
       "      <th>kcal_total</th>\n",
       "      <th>kcal_carb</th>\n",
       "      <th>kcal_fat</th>\n",
       "      <th>kcal_protein</th>\n",
       "      <th>mg_sodium</th>\n",
       "      <th>mg_cholesterol</th>\n",
       "    </tr>\n",
       "  </thead>\n",
       "  <tbody>\n",
       "    <tr>\n",
       "      <th>0</th>\n",
       "      <td>Easy Light Chocolate Milkshake Recipe</td>\n",
       "      <td>http://recipes.sparkpeople.com/recipe-detail.a...</td>\n",
       "      <td>put one half cup of milk, 4 tablespoons of cho...</td>\n",
       "      <td>! , . 4 ? and are blend chocolate cup enjoy ex...</td>\n",
       "      <td>257.1</td>\n",
       "      <td>220</td>\n",
       "      <td>7.2</td>\n",
       "      <td>21.2</td>\n",
       "      <td>95.4</td>\n",
       "      <td>2.5</td>\n",
       "    </tr>\n",
       "    <tr>\n",
       "      <th>1</th>\n",
       "      <td>Lamb Stew Recipe : : Recipes : Food Network</td>\n",
       "      <td>http://www.foodnetwork.com/recipes/rachael-ray...</td>\n",
       "      <td>5 yellow onions|2 turnips|5 carrots|1 stalk fe...</td>\n",
       "      <td>, 1 1\\/2 1\\/4 1\\/8 1Â 1\\/2 2 3 5 and anise app...</td>\n",
       "      <td>?</td>\n",
       "      <td>?</td>\n",
       "      <td>?</td>\n",
       "      <td>?</td>\n",
       "      <td>?</td>\n",
       "      <td>?</td>\n",
       "    </tr>\n",
       "    <tr>\n",
       "      <th>2</th>\n",
       "      <td>Chocolate Bread Pudding Recipe : Paula Deen : ...</td>\n",
       "      <td>http://www.foodnetwork.com/recipes/paula-deen/...</td>\n",
       "      <td>1 (1-pound) loaf French or Italian bread, cube...</td>\n",
       "      <td>, -lrb- -rrb- 1 1-pound 1\\/2 1\\/4 1Â 1\\/2 2 3 ...</td>\n",
       "      <td>?</td>\n",
       "      <td>?</td>\n",
       "      <td>?</td>\n",
       "      <td>?</td>\n",
       "      <td>?</td>\n",
       "      <td>?</td>\n",
       "    </tr>\n",
       "    <tr>\n",
       "      <th>3</th>\n",
       "      <td>Snowball Cookies II Recipe</td>\n",
       "      <td>http://www.cdkitchen.com/recipes/recs/32/Snowb...</td>\n",
       "      <td>1/2 cup powdered sugar|1/3 cup butter or marga...</td>\n",
       "      <td>1 1\\/2 1\\/3 2 almond baking bisquick butter ch...</td>\n",
       "      <td>?</td>\n",
       "      <td>?</td>\n",
       "      <td>?</td>\n",
       "      <td>?</td>\n",
       "      <td>?</td>\n",
       "      <td>?</td>\n",
       "    </tr>\n",
       "    <tr>\n",
       "      <th>4</th>\n",
       "      <td>Old Fashioned Butterscotch Pie Recipe #31698</td>\n",
       "      <td>http://www.cdkitchen.com/recipes/recs/38/Old_F...</td>\n",
       "      <td>1 1/2 cup brown sugar|1 cup water|3 eggs|4 tab...</td>\n",
       "      <td>1 1\\/2 1\\/4 1Â 1\\/2 3 4 brown butter cream cup...</td>\n",
       "      <td>192</td>\n",
       "      <td>120</td>\n",
       "      <td>63</td>\n",
       "      <td>12</td>\n",
       "      <td>?</td>\n",
       "      <td>?</td>\n",
       "    </tr>\n",
       "  </tbody>\n",
       "</table>\n",
       "</div>"
      ],
      "text/plain": [
       "                                               title  \\\n",
       "0              Easy Light Chocolate Milkshake Recipe   \n",
       "1        Lamb Stew Recipe : : Recipes : Food Network   \n",
       "2  Chocolate Bread Pudding Recipe : Paula Deen : ...   \n",
       "3                         Snowball Cookies II Recipe   \n",
       "4       Old Fashioned Butterscotch Pie Recipe #31698   \n",
       "\n",
       "                                                 url  \\\n",
       "0  http://recipes.sparkpeople.com/recipe-detail.a...   \n",
       "1  http://www.foodnetwork.com/recipes/rachael-ray...   \n",
       "2  http://www.foodnetwork.com/recipes/paula-deen/...   \n",
       "3  http://www.cdkitchen.com/recipes/recs/32/Snowb...   \n",
       "4  http://www.cdkitchen.com/recipes/recs/38/Old_F...   \n",
       "\n",
       "                                    ingredients_list  \\\n",
       "0  put one half cup of milk, 4 tablespoons of cho...   \n",
       "1  5 yellow onions|2 turnips|5 carrots|1 stalk fe...   \n",
       "2  1 (1-pound) loaf French or Italian bread, cube...   \n",
       "3  1/2 cup powdered sugar|1/3 cup butter or marga...   \n",
       "4  1 1/2 cup brown sugar|1 cup water|3 eggs|4 tab...   \n",
       "\n",
       "                            ingredients_bag-of-words kcal_total kcal_carb  \\\n",
       "0  ! , . 4 ? and are blend chocolate cup enjoy ex...      257.1       220   \n",
       "1  , 1 1\\/2 1\\/4 1\\/8 1Â 1\\/2 2 3 5 and anise app...          ?         ?   \n",
       "2  , -lrb- -rrb- 1 1-pound 1\\/2 1\\/4 1Â 1\\/2 2 3 ...          ?         ?   \n",
       "3  1 1\\/2 1\\/3 2 almond baking bisquick butter ch...          ?         ?   \n",
       "4  1 1\\/2 1\\/4 1Â 1\\/2 3 4 brown butter cream cup...        192       120   \n",
       "\n",
       "  kcal_fat kcal_protein mg_sodium mg_cholesterol  \n",
       "0      7.2         21.2      95.4            2.5  \n",
       "1        ?            ?         ?              ?  \n",
       "2        ?            ?         ?              ?  \n",
       "3        ?            ?         ?              ?  \n",
       "4       63           12         ?              ?  "
      ]
     },
     "metadata": {},
     "output_type": "display_data"
    }
   ],
   "source": [
    "# ----- Make a dataframe with our data while dropping the NaN values ----- #\n",
    "ingr_dataframe=raw_data[['title','url','ingredients_list','ingredients_bag-of-words','kcal_total','kcal_carb','kcal_fat','kcal_protein','mg_sodium','mg_cholesterol']].copy().dropna()\n",
    "ingr_dataframe = ingr_dataframe.reset_index(drop=True)\n",
    "display(ingr_dataframe.head())\n",
    "\n",
    "# Ignore upper case in the ingredients list string\n",
    "ingr_dataframe['ingredients_list']=ingr_dataframe['ingredients_list'].str.lower()\n",
    "\n",
    "#ingr_data_reduced=ingr_dataframe.head(100) # create a reduced data as draft to test when creating new functions"
   ]
  },
  {
   "cell_type": "markdown",
   "metadata": {},
   "source": [
    "### Function to process the text in the ingredient list (cf pre_process.py)\n",
    "\n",
    "We notice that for some ingredients in the ingredients list, the quantity is given twice with one quantity given in volume or mass within parenthesis\n",
    "\n",
    "Therefore, we apply the next function to return only the wanted quantity"
   ]
  },
  {
   "cell_type": "code",
   "execution_count": 5,
   "metadata": {
    "collapsed": true
   },
   "outputs": [],
   "source": [
    "fun_add_preprocess(ingr_dataframe,units_list)"
   ]
  },
  {
   "cell_type": "markdown",
   "metadata": {},
   "source": [
    "### Convert all quantities in grams \n",
    "In order to use machine learning model and try to predict the nutrient values for each ingredients, the data needs to be homogeneous and uniform. To do so, we decide to convert every quantity into one unique unit which is the gram."
   ]
  },
  {
   "cell_type": "code",
   "execution_count": 6,
   "metadata": {
    "collapsed": true,
    "scrolled": true
   },
   "outputs": [],
   "source": [
    "data_file='Final_unit_BBC.csv'\n",
    "quantity_data = pd.read_csv(data_file ,header=-1)\n",
    "quantity_data.head()\n",
    "ingred_unit={}\n",
    "for index, row in quantity_data.iterrows():\n",
    "    ingred_unit[row[0]]=row[1]"
   ]
  },
  {
   "cell_type": "markdown",
   "metadata": {},
   "source": [
    "### Extraction of ingredients for each recipe\n",
    "After the preprocessing the next function allow to extract the ingredients for each recipe and construct a dataframe where the row are the recipes, the columns the ingredients and the value is the quantity corresponding to the ingredient."
   ]
  },
  {
   "cell_type": "code",
   "execution_count": 7,
   "metadata": {},
   "outputs": [
    {
     "name": "stdout",
     "output_type": "stream",
     "text": [
      "1/3 cup quinoa|1 cup water|1 pinch salt|1 tablespoon olive oil|1 teaspoon minced garlic|1 small sweet onion, chopped|1 cup crimini mushrooms, sliced|1 small sweet potato, peeled and diced|1/4 teaspoon cayenne pepper|salt and pepper to taste|1/4 cup chopped, toasted pecans\n"
     ]
    },
    {
     "data": {
      "text/plain": [
       "{'cayenne pepper': '1/4 teaspoon',\n",
       " 'garlic': '1 teaspoon',\n",
       " 'mushroom': '1 cup',\n",
       " 'olive oil': '1 tablespoon',\n",
       " 'onion': '1 97.5',\n",
       " 'pecan': '1/4 cup',\n",
       " 'pepper': '1 51.33333333',\n",
       " 'quinoa': '1/3 cup',\n",
       " 'salt': '1 pinch',\n",
       " 'sweet potato': '1 200.0',\n",
       " 'water': '1 cup'}"
      ]
     },
     "execution_count": 7,
     "metadata": {},
     "output_type": "execute_result"
    }
   ],
   "source": [
    "# !!!!! ----- Test cell : to inspect a specific recipe ----- !!!!!! #\n",
    "def test_receipe(k,to_gram_):\n",
    "    receipe=ingr_dataframe.loc[k]['Recipe_preporcess']\n",
    "    print(receipe)\n",
    "    dic_ingr,dictec,wasted,wasted_numb=fun_extract_ingredients\\\n",
    "        (receipe,ingredient_list,techniques_list,units_list,ingred_unit\\\n",
    "         ,to_gram=to_gram_)\n",
    "    return dic_ingr\n",
    "test_receipe(28,False)"
   ]
  },
  {
   "cell_type": "code",
   "execution_count": 8,
   "metadata": {},
   "outputs": [
    {
     "data": {
      "text/html": [
       "<div>\n",
       "<style>\n",
       "    .dataframe thead tr:only-child th {\n",
       "        text-align: right;\n",
       "    }\n",
       "\n",
       "    .dataframe thead th {\n",
       "        text-align: left;\n",
       "    }\n",
       "\n",
       "    .dataframe tbody tr th {\n",
       "        vertical-align: top;\n",
       "    }\n",
       "</style>\n",
       "<table border=\"1\" class=\"dataframe\">\n",
       "  <thead>\n",
       "    <tr style=\"text-align: right;\">\n",
       "      <th></th>\n",
       "      <th>acidulated water</th>\n",
       "      <th>acorn squash</th>\n",
       "      <th>agave</th>\n",
       "      <th>ale</th>\n",
       "      <th>aleppo pepper</th>\n",
       "      <th>alfalfa sprout</th>\n",
       "      <th>allspice</th>\n",
       "      <th>almond</th>\n",
       "      <th>almond extract</th>\n",
       "      <th>almond milk</th>\n",
       "      <th>...</th>\n",
       "      <th>worcestershire sauce</th>\n",
       "      <th>wrap</th>\n",
       "      <th>yam</th>\n",
       "      <th>yeast</th>\n",
       "      <th>yellow lentil</th>\n",
       "      <th>yoghurt</th>\n",
       "      <th>yogurt</th>\n",
       "      <th>yuzu</th>\n",
       "      <th>zest</th>\n",
       "      <th>zucchini</th>\n",
       "    </tr>\n",
       "  </thead>\n",
       "  <tbody>\n",
       "    <tr>\n",
       "      <th>0</th>\n",
       "      <td>NaN</td>\n",
       "      <td>NaN</td>\n",
       "      <td>NaN</td>\n",
       "      <td>NaN</td>\n",
       "      <td>NaN</td>\n",
       "      <td>NaN</td>\n",
       "      <td>NaN</td>\n",
       "      <td>NaN</td>\n",
       "      <td>NaN</td>\n",
       "      <td>NaN</td>\n",
       "      <td>...</td>\n",
       "      <td>NaN</td>\n",
       "      <td>NaN</td>\n",
       "      <td>NaN</td>\n",
       "      <td>NaN</td>\n",
       "      <td>NaN</td>\n",
       "      <td>NaN</td>\n",
       "      <td>NaN</td>\n",
       "      <td>NaN</td>\n",
       "      <td>NaN</td>\n",
       "      <td>NaN</td>\n",
       "    </tr>\n",
       "    <tr>\n",
       "      <th>1</th>\n",
       "      <td>NaN</td>\n",
       "      <td>NaN</td>\n",
       "      <td>NaN</td>\n",
       "      <td>NaN</td>\n",
       "      <td>NaN</td>\n",
       "      <td>NaN</td>\n",
       "      <td>NaN</td>\n",
       "      <td>NaN</td>\n",
       "      <td>NaN</td>\n",
       "      <td>NaN</td>\n",
       "      <td>...</td>\n",
       "      <td>NaN</td>\n",
       "      <td>NaN</td>\n",
       "      <td>NaN</td>\n",
       "      <td>NaN</td>\n",
       "      <td>NaN</td>\n",
       "      <td>NaN</td>\n",
       "      <td>NaN</td>\n",
       "      <td>NaN</td>\n",
       "      <td>29.625</td>\n",
       "      <td>NaN</td>\n",
       "    </tr>\n",
       "    <tr>\n",
       "      <th>2</th>\n",
       "      <td>NaN</td>\n",
       "      <td>NaN</td>\n",
       "      <td>NaN</td>\n",
       "      <td>NaN</td>\n",
       "      <td>NaN</td>\n",
       "      <td>NaN</td>\n",
       "      <td>NaN</td>\n",
       "      <td>NaN</td>\n",
       "      <td>10.0</td>\n",
       "      <td>NaN</td>\n",
       "      <td>...</td>\n",
       "      <td>NaN</td>\n",
       "      <td>NaN</td>\n",
       "      <td>NaN</td>\n",
       "      <td>NaN</td>\n",
       "      <td>NaN</td>\n",
       "      <td>NaN</td>\n",
       "      <td>NaN</td>\n",
       "      <td>NaN</td>\n",
       "      <td>NaN</td>\n",
       "      <td>NaN</td>\n",
       "    </tr>\n",
       "    <tr>\n",
       "      <th>3</th>\n",
       "      <td>NaN</td>\n",
       "      <td>NaN</td>\n",
       "      <td>NaN</td>\n",
       "      <td>NaN</td>\n",
       "      <td>NaN</td>\n",
       "      <td>NaN</td>\n",
       "      <td>NaN</td>\n",
       "      <td>NaN</td>\n",
       "      <td>5.0</td>\n",
       "      <td>NaN</td>\n",
       "      <td>...</td>\n",
       "      <td>NaN</td>\n",
       "      <td>NaN</td>\n",
       "      <td>NaN</td>\n",
       "      <td>NaN</td>\n",
       "      <td>NaN</td>\n",
       "      <td>NaN</td>\n",
       "      <td>NaN</td>\n",
       "      <td>NaN</td>\n",
       "      <td>NaN</td>\n",
       "      <td>NaN</td>\n",
       "    </tr>\n",
       "    <tr>\n",
       "      <th>4</th>\n",
       "      <td>NaN</td>\n",
       "      <td>NaN</td>\n",
       "      <td>NaN</td>\n",
       "      <td>NaN</td>\n",
       "      <td>NaN</td>\n",
       "      <td>NaN</td>\n",
       "      <td>NaN</td>\n",
       "      <td>NaN</td>\n",
       "      <td>NaN</td>\n",
       "      <td>NaN</td>\n",
       "      <td>...</td>\n",
       "      <td>NaN</td>\n",
       "      <td>NaN</td>\n",
       "      <td>NaN</td>\n",
       "      <td>NaN</td>\n",
       "      <td>NaN</td>\n",
       "      <td>NaN</td>\n",
       "      <td>NaN</td>\n",
       "      <td>NaN</td>\n",
       "      <td>NaN</td>\n",
       "      <td>NaN</td>\n",
       "    </tr>\n",
       "  </tbody>\n",
       "</table>\n",
       "<p>5 rows × 863 columns</p>\n",
       "</div>"
      ],
      "text/plain": [
       "   acidulated water  acorn squash  agave  ale  aleppo pepper  alfalfa sprout  \\\n",
       "0               NaN           NaN    NaN  NaN            NaN             NaN   \n",
       "1               NaN           NaN    NaN  NaN            NaN             NaN   \n",
       "2               NaN           NaN    NaN  NaN            NaN             NaN   \n",
       "3               NaN           NaN    NaN  NaN            NaN             NaN   \n",
       "4               NaN           NaN    NaN  NaN            NaN             NaN   \n",
       "\n",
       "   allspice  almond  almond extract  almond milk    ...     \\\n",
       "0       NaN     NaN             NaN          NaN    ...      \n",
       "1       NaN     NaN             NaN          NaN    ...      \n",
       "2       NaN     NaN            10.0          NaN    ...      \n",
       "3       NaN     NaN             5.0          NaN    ...      \n",
       "4       NaN     NaN             NaN          NaN    ...      \n",
       "\n",
       "   worcestershire sauce  wrap  yam  yeast  yellow lentil  yoghurt  yogurt  \\\n",
       "0                   NaN   NaN  NaN    NaN            NaN      NaN     NaN   \n",
       "1                   NaN   NaN  NaN    NaN            NaN      NaN     NaN   \n",
       "2                   NaN   NaN  NaN    NaN            NaN      NaN     NaN   \n",
       "3                   NaN   NaN  NaN    NaN            NaN      NaN     NaN   \n",
       "4                   NaN   NaN  NaN    NaN            NaN      NaN     NaN   \n",
       "\n",
       "   yuzu    zest  zucchini  \n",
       "0   NaN     NaN       NaN  \n",
       "1   NaN  29.625       NaN  \n",
       "2   NaN     NaN       NaN  \n",
       "3   NaN     NaN       NaN  \n",
       "4   NaN     NaN       NaN  \n",
       "\n",
       "[5 rows x 863 columns]"
      ]
     },
     "metadata": {},
     "output_type": "display_data"
    },
    {
     "name": "stdout",
     "output_type": "stream",
     "text": [
      "There are :  863 ingredients\n"
     ]
    }
   ],
   "source": [
    "#----- Use whole data frame to extract each ingredient with its quantity and unit by using the lists  ------ #\n",
    "all_dic=[]\n",
    "all_dic_tec=[]\n",
    "not_used_ingr=[]\n",
    "wastes=0\n",
    "for index, row in ingr_dataframe.iterrows():\n",
    "    recipe=row['Recipe_preporcess']\n",
    "\n",
    "    # Function in str_functions.py to extract the ingredients for each recipe\n",
    "    dic_ingre,dictec,wasted_ingr,wasted_number=fun_extract_ingredients\\\n",
    "            (recipe,ingredient_list,techniques_list,units_list,ingred_unit,to_gram=True)\n",
    "    # Also convert each quantity in the same unit (grams) if to_gram is set to True\n",
    "    all_dic.append(dic_ingre)\n",
    "    all_dic_tec.append(dictec)\n",
    "\n",
    "# We implemented the number of ingredients which didn't fit the criteria \n",
    "# Then we plotted the ingredient that we threw away in order to complete manually our ingredient list with important ingredients that our list may miss\n",
    "    #not_used_ingr.append(wasted_ingr) \n",
    "    #wastes=wastes+wasted_number\n",
    "    \n",
    "# ----- Create the dataframe of all the ingredient and their quantities ----- #\n",
    "ingredients_frame = pd.DataFrame(data=all_dic)\n",
    "techniques_frame = pd.DataFrame(data =all_dic_tec)\n",
    "display(ingredients_frame.head(5))\n",
    "\n",
    "# ----- Print the number of ingredients ----- #\n",
    "print('There are : ',len(list(ingredients_frame)), 'ingredients')\n",
    "ingred_used={}\n",
    "for i in list(ingredients_frame):\n",
    "    ingred_used[i]=sum(ingredients_frame[i].value_counts())"
   ]
  },
  {
   "cell_type": "markdown",
   "metadata": {},
   "source": [
    "### Create dictionnary associated techniques"
   ]
  },
  {
   "cell_type": "code",
   "execution_count": 9,
   "metadata": {},
   "outputs": [
    {
     "data": {
      "text/plain": [
       "(46277, 863)"
      ]
     },
     "execution_count": 9,
     "metadata": {},
     "output_type": "execute_result"
    }
   ],
   "source": [
    "ingredients_frame.shape"
   ]
  },
  {
   "cell_type": "code",
   "execution_count": 10,
   "metadata": {
    "collapsed": true
   },
   "outputs": [],
   "source": [
    "Ingr = techniques_frame.columns.tolist()\n",
    "def extract_tec(name):\n",
    "    temp = techniques_frame[name].dropna().values.tolist()\n",
    "    temp = list(filter(None, temp))\n",
    "\n",
    "    return(np.unique(temp))\n",
    "tec = list(map(lambda x : extract_tec(x).tolist(),Ingr))\n",
    "\n",
    "dict_tec = dict(zip(Ingr, tec))\n"
   ]
  },
  {
   "cell_type": "markdown",
   "metadata": {},
   "source": [
    "## Analysis of outliers\n",
    "\n",
    "After extracting the ingredients, some errors could happen or some recipes might be wrong, therefore an outlier analysis is required to reduce the error while we try to predict the nutrient informations."
   ]
  },
  {
   "cell_type": "code",
   "execution_count": 11,
   "metadata": {
    "collapsed": true
   },
   "outputs": [],
   "source": [
    "#function to get max quantities of ingredient and their\n",
    "# associated recipe\n",
    "def fun_maxQ(ingredients_frame):\n",
    "    max_dic={}\n",
    "    max_index={}\n",
    "    for ingr in list(ingredients_frame):\n",
    "        max_dic[ingr]=(ingredients_frame[ingr].max())\n",
    "        max_index[ingr]=ingredients_frame[ingr].idxmax()\n",
    "    return max_dic,max_index"
   ]
  },
  {
   "cell_type": "code",
   "execution_count": 12,
   "metadata": {},
   "outputs": [
    {
     "data": {
      "text/plain": [
       "[(362800.0, 'cake'),\n",
       " (282400.0, 'hominy'),\n",
       " (282400.0, 'broth'),\n",
       " (151600.0, 'mashed potato'),\n",
       " (150000.0, 'meat'),\n",
       " (121581.0, 'coconut'),\n",
       " (121344.0, 'flour'),\n",
       " (116617.5, 'broccoli'),\n",
       " (101200.0, 'soup'),\n",
       " (97644.0, 'milk')]"
      ]
     },
     "execution_count": 12,
     "metadata": {},
     "output_type": "execute_result"
    }
   ],
   "source": [
    "max_dic,max_index=fun_maxQ(ingredients_frame)\n",
    "max_ordered=sorted((value,key) for (key,value) in max_dic.items())\n",
    "#top 10 highest value\n",
    "max_ordered[::-1][0:10]"
   ]
  },
  {
   "cell_type": "code",
   "execution_count": 13,
   "metadata": {},
   "outputs": [
    {
     "data": {
      "image/png": "[encoded data removed]",
      "text/plain": [
       "<matplotlib.figure.Figure at 0x11ec32c50>"
      ]
     },
     "metadata": {},
     "output_type": "display_data"
    }
   ],
   "source": [
    "#plot variation of outliers for various ingredient\n",
    "#  as a function of the threshold\n",
    "plt.figure(figsize=(10,8))\n",
    "std_list=np.arange(1,10,0.1)\n",
    "testoutliers=['onion','beef','ham','milk']\n",
    "for ingr in testoutliers:\n",
    "    ratio_outliers=[]\n",
    "    for i in std_list:\n",
    "        axa=ingredients_frame[ingr].dropna()\n",
    "        m=np.mean(axa)\n",
    "        std=np.std(axa)\n",
    "        ratio_outliers.append(sum(axa>m+i*std)/len(axa)*100)\n",
    "        \n",
    "    plt.plot(std_list,ratio_outliers,label=ingr)\n",
    "plt.xlabel('Threshold ($\\sigma$)',fontsize=20)\n",
    "plt.ylabel('% of data considered as outliers',fontsize=20)\n",
    "plt.xticks(fontsize=20)\n",
    "plt.yticks(fontsize=20)\n",
    "plt.grid()\n",
    "plt.legend(fontsize=20)\n",
    "plt.savefig('./fig/ouliers_reject_T.pdf')\n",
    "plt.show()"
   ]
  },
  {
   "cell_type": "code",
   "execution_count": 14,
   "metadata": {},
   "outputs": [
    {
     "name": "stdout",
     "output_type": "stream",
     "text": [
      "99.8646209386\n"
     ]
    },
    {
     "data": {
      "image/png": "[encoded data removed]",
      "text/plain": [
       "<matplotlib.figure.Figure at 0x11edf9908>"
      ]
     },
     "metadata": {},
     "output_type": "display_data"
    }
   ],
   "source": [
    "#plot boxplot of one ingred as a fu\n",
    "ingr='beef'\n",
    "axa=ingredients_frame[ingr].dropna()\n",
    "m=np.mean(axa)\n",
    "std=np.std(axa)\n",
    "ratio=sum(axa>m+7*std)/len(axa)\n",
    "perc_to_put=100-ratio*100\n",
    "print(perc_to_put)\n",
    "plt.boxplot(ingredients_frame[ingr].dropna().tolist(),whis=[5,perc_to_put])\n",
    "plt.xlabel(ingr)\n",
    "plt.ylabel('Grams')\n",
    "plt.show()"
   ]
  },
  {
   "cell_type": "code",
   "execution_count": 15,
   "metadata": {},
   "outputs": [
    {
     "data": {
      "image/png": "[encoded data removed]",
      "text/plain": [
       "<matplotlib.figure.Figure at 0x13d480390>"
      ]
     },
     "metadata": {},
     "output_type": "display_data"
    }
   ],
   "source": [
    "#enable multiple plot for all ingredient in list to plot\n",
    "plt.figure(figsize=(10,8))\n",
    "toplot=testoutliers\n",
    "i=0\n",
    "for ingr in toplot:\n",
    "    axa=ingredients_frame[ingr].dropna()\n",
    "    m=np.mean(axa)\n",
    "    std=np.std(axa)\n",
    "    ratio=sum(axa>m+7*std)/len(axa)\n",
    "    perc_to_put=100-ratio*100\n",
    "    plt.boxplot(ingredients_frame[ingr].dropna().tolist(),positions=range(2+i,3+i),whis=[5,perc_to_put],showfliers=True)\n",
    "    i=i+1\n",
    "#plt.boxplot(ingredients_frame['onion'].dropna(),positions=range(2,3),whis=[5,perc_to_put]),\\\n",
    "#plt.boxplot(ingredients_frame['beef'].dropna(),positions=range(3,4),whis=[5,perc_to_put])#,\\\n",
    "#plt.boxplot(ingredients_frame['milk'].dropna(),whis=[5,perc_to_put],positions=range(4,5))\n",
    "plt.xlabel('Ingredients',fontsize=20)\n",
    "plt.xticks(range(1,7),['']+testoutliers,rotation=15,fontsize=20)\n",
    "plt.yticks(fontsize=20)\n",
    "plt.ylabel('Grams',fontsize=20)\n",
    "plt.savefig('./fig/ouliers_distrib.pdf')\n",
    "plt.show()"
   ]
  },
  {
   "cell_type": "code",
   "execution_count": 16,
   "metadata": {},
   "outputs": [
    {
     "data": {
      "text/plain": [
       "(45606, 862)"
      ]
     },
     "execution_count": 16,
     "metadata": {},
     "output_type": "execute_result"
    }
   ],
   "source": [
    "to_delete=[]\n",
    "for ingr in list(ingredients_frame):\n",
    "    axa=ingredients_frame[ingr].dropna()\n",
    "    m=np.mean(axa)\n",
    "    std=np.std(axa)\n",
    "    for ind, row in axa.iteritems():\n",
    "        if (row>m+7*std) and (ind not in to_delete):\n",
    "            to_delete.append(ind)\n",
    "testframe=ingredients_frame.drop(to_delete).copy() \n",
    "#DROP the columns with only nan that could result from this operation\n",
    "testframe=testframe.dropna(how='all',axis=1)\n",
    "testframe.shape\n"
   ]
  },
  {
   "cell_type": "code",
   "execution_count": 17,
   "metadata": {},
   "outputs": [
    {
     "name": "stdout",
     "output_type": "stream",
     "text": [
      "1631     3784.0\n",
      "1625     1320.0\n",
      "9813      990.0\n",
      "366       948.0\n",
      "10493     948.0\n",
      "9539      906.0\n",
      "36658     870.0\n",
      "31859     812.0\n",
      "7215      711.0\n",
      "8994      711.0\n",
      "21095     711.0\n",
      "16758     660.0\n",
      "17624     660.0\n",
      "25884     660.0\n",
      "27754     660.0\n",
      "Name: hominy, dtype: float64\n",
      "1412 ozs yellow hominy |8 ozs corn |2 tbsps lemon juice|1 clove clove garlic|12 tsp ground cumin|14 tsp cayenne\n"
     ]
    },
    {
     "data": {
      "text/plain": [
       "{'cayenne': '14 tsp',\n",
       " 'corn': '8 102.0',\n",
       " 'cumin': '12 tsp',\n",
       " 'garlic': '1 90.0',\n",
       " 'hominy': '1412 200.0',\n",
       " 'lemon juice': '2 53.5'}"
      ]
     },
     "execution_count": 17,
     "metadata": {},
     "output_type": "execute_result"
    }
   ],
   "source": [
    "print(testframe['hominy'].nlargest(n=15, keep='first'))\n",
    "test_receipe(45135 ,False)"
   ]
  },
  {
   "cell_type": "code",
   "execution_count": 18,
   "metadata": {},
   "outputs": [
    {
     "data": {
      "text/plain": [
       "[(47000.0, 'liver'),\n",
       " (26781.0, 'macaroon'),\n",
       " (18925.0, 'peanut oil'),\n",
       " (18120.0, 'venison'),\n",
       " (16416.0, 'endive'),\n",
       " (15000.0, 'mussel'),\n",
       " (14400.0, 'tortilla'),\n",
       " (13923.0, 'pork loin'),\n",
       " (13136.0, 'watermelon'),\n",
       " (12684.0, 'cake')]"
      ]
     },
     "execution_count": 18,
     "metadata": {},
     "output_type": "execute_result"
    }
   ],
   "source": [
    "#Max quantities after outlier analysis\n",
    "max_dic,max_index=fun_maxQ(testframe)\n",
    "max_ordered=sorted((value,key) for (key,value) in max_dic.items())\n",
    "#top 10 highest value\n",
    "max_ordered[::-1][0:10]"
   ]
  },
  {
   "cell_type": "code",
   "execution_count": 19,
   "metadata": {},
   "outputs": [
    {
     "data": {
      "image/png": "[encoded data removed]",
      "text/plain": [
       "<matplotlib.figure.Figure at 0x13d807128>"
      ]
     },
     "metadata": {},
     "output_type": "display_data"
    }
   ],
   "source": [
    "plt.figure(figsize=(10,8))\n",
    "i=0\n",
    "for ingr in testoutliers:\n",
    "    axa=testframe[ingr].dropna()\n",
    "    m=np.mean(axa)\n",
    "    std=np.std(axa)\n",
    "    ratio=sum(axa>m+9*std)/len(axa)\n",
    "    perc_to_put=100-ratio*100\n",
    "    plt.boxplot(testframe[ingr].dropna().tolist(),positions=range(2+i,3+i),whis=[0,perc_to_put],showfliers=True)\n",
    "    i=i+1\n",
    "#plt.boxplot(ingredients_frame['onion'].dropna(),positions=range(2,3),whis=[5,perc_to_put]),\\\n",
    "#plt.boxplot(ingredients_frame['beef'].dropna(),positions=range(3,4),whis=[5,perc_to_put])#,\\\n",
    "#plt.boxplot(ingredients_frame['milk'].dropna(),whis=[5,perc_to_put],positions=range(4,5))\n",
    "plt.xlabel('Ingredients',fontsize=20)\n",
    "plt.xticks(range(1,7),['']+testoutliers,rotation=15,fontsize=20)\n",
    "plt.yticks(fontsize=20)\n",
    "plt.ylabel('Grams',fontsize=20)\n",
    "plt.savefig('./fig/no_ouliers_distrib.pdf')\n",
    "plt.show()"
   ]
  },
  {
   "cell_type": "code",
   "execution_count": 20,
   "metadata": {},
   "outputs": [
    {
     "data": {
      "image/png": "[encoded data removed]",
      "text/plain": [
       "<matplotlib.figure.Figure at 0x13d8c65c0>"
      ]
     },
     "metadata": {},
     "output_type": "display_data"
    }
   ],
   "source": [
    "plt.boxplot([testframe['broccoli'].dropna().tolist(),testframe['zucchini'].dropna().tolist()],0,'1')\n",
    "plt.xlabel('Ingredient')\n",
    "plt.xticks(range(1,3),['broccoli','zucchini'],rotation=15)\n",
    "plt.ylabel('Grams')\n",
    "plt.show()"
   ]
  },
  {
   "cell_type": "markdown",
   "metadata": {},
   "source": [
    "## Data Analysis"
   ]
  },
  {
   "cell_type": "markdown",
   "metadata": {},
   "source": [
    "### Number of occurence for each ingredient in the whole dataframe"
   ]
  },
  {
   "cell_type": "code",
   "execution_count": 21,
   "metadata": {
    "scrolled": false
   },
   "outputs": [
    {
     "data": {
      "image/png": "[encoded data removed]",
      "text/plain": [
       "<matplotlib.figure.Figure at 0x13d4eb780>"
      ]
     },
     "metadata": {},
     "output_type": "display_data"
    }
   ],
   "source": [
    "# ----- Sort the ingredients by occurrence ----- #\n",
    "occu=sorted((value,key) for (key,value) in ingred_used.items())\n",
    "occu[::-1]\n",
    "\n",
    "ing_occ = pd.DataFrame(occu[::-1]).head(20)\n",
    "ing_occ = ing_occ.sort_values(0,ascending=True)\n",
    "people = ing_occ[1].values\n",
    "score = ing_occ[0].values\n",
    "x_pos = np.arange(len(people))\n",
    "plt.figure(figsize=((10,10)))\n",
    "plt.barh(x_pos, score,align='center',color='#31a354')\n",
    "plt.xlabel('Number of appearances',fontsize =15)\n",
    "plt.xticks(fontsize =15)\n",
    "plt.yticks(x_pos,people, fontsize =15)\n",
    "plt.show()"
   ]
  },
  {
   "cell_type": "markdown",
   "metadata": {},
   "source": [
    "### Occurrence per category"
   ]
  },
  {
   "cell_type": "code",
   "execution_count": 22,
   "metadata": {
    "collapsed": true
   },
   "outputs": [],
   "source": [
    "ingredients_categories = pd.read_csv('Webscrapping by little people - Feuille 1.csv',sep=',')\n",
    "\n",
    "\n",
    "categorie_dic = ingredients_categories.set_index('Ingredient')['Category'].to_dict()\n",
    "\n",
    "\n",
    "occu=sorted((value,key) for (key,value) in ingred_used.items())\n",
    "x = list(map(lambda x : (x[0],categorie_dic[x[1]]),occu[::-1]))\n",
    "cat = [[],[],[],[],[],[],[]]\n",
    "for i in x:\n",
    "    cat[i[1]].append(i[0])"
   ]
  },
  {
   "cell_type": "code",
   "execution_count": 23,
   "metadata": {},
   "outputs": [
    {
     "data": {
      "image/png": "[encoded data removed]",
      "text/plain": [
       "<matplotlib.figure.Figure at 0x13d896f28>"
      ]
     },
     "metadata": {},
     "output_type": "display_data"
    }
   ],
   "source": [
    "people = ['Other','Fruit','Vegetable','Sides','Meat','Dairy','Spice']\n",
    "score = list(map(lambda x : np.sum(x),cat))\n",
    "x_pos = np.arange(len(people))\n",
    "plt.figure(figsize=((8,8)))\n",
    "plt.barh(x_pos, score,align='center',color='#31a354')\n",
    "plt.xlabel('Number of appearances',fontsize =15)\n",
    "plt.xticks(fontsize =15)\n",
    "plt.yticks(x_pos,people, fontsize =15)\n",
    "plt.show()"
   ]
  },
  {
   "cell_type": "markdown",
   "metadata": {},
   "source": [
    "### Show the distribution of number of ingredients per recipe"
   ]
  },
  {
   "cell_type": "code",
   "execution_count": 24,
   "metadata": {
    "collapsed": true
   },
   "outputs": [],
   "source": [
    "a = ingredients_frame.count(axis=1).value_counts(sort =False)\n",
    "a = a.sort_index()\n"
   ]
  },
  {
   "cell_type": "code",
   "execution_count": 25,
   "metadata": {},
   "outputs": [
    {
     "data": {
      "image/png": "[encoded data removed]",
      "text/plain": [
       "<matplotlib.figure.Figure at 0x13d80e080>"
      ]
     },
     "metadata": {},
     "output_type": "display_data"
    }
   ],
   "source": [
    "people = a.index\n",
    "score = a.values\n",
    "x_pos = np.arange(len(people))\n",
    "plt.figure(figsize=((14,10)))\n",
    "plt.bar(x_pos, score,align='center',color='#3182bd')\n",
    "plt.ylabel('Number of recipe',fontsize =15)\n",
    "plt.xlabel('Number of ingredients per recipe',fontsize =15)\n",
    "plt.yticks( fontsize =15)\n",
    "plt.xticks(x_pos,people, fontsize =15)\n",
    "plt.show()"
   ]
  },
  {
   "cell_type": "markdown",
   "metadata": {},
   "source": [
    "### Compute the number of vegan and vegetarian recipes"
   ]
  },
  {
   "cell_type": "code",
   "execution_count": 26,
   "metadata": {
    "collapsed": true
   },
   "outputs": [],
   "source": [
    "a = list(map(lambda x : ingredients_frame.loc[x].dropna(),range(ingredients_frame.shape[0])))"
   ]
  },
  {
   "cell_type": "code",
   "execution_count": 27,
   "metadata": {},
   "outputs": [
    {
     "name": "stdout",
     "output_type": "stream",
     "text": [
      "Percentage of vegetarian recipe:  64.3 %\n"
     ]
    }
   ],
   "source": [
    "meat = 0\n",
    "\n",
    "for i in a:\n",
    "    for j in i.index:\n",
    "        if categorie_dic[j] == 4:\n",
    "            meat +=1\n",
    "            break\n",
    "            \n",
    "print('Percentage of vegetarian recipe: ',round((ingredients_frame.shape[0]- meat)*100/ingredients_frame.shape[0],1),'%')"
   ]
  },
  {
   "cell_type": "code",
   "execution_count": 28,
   "metadata": {},
   "outputs": [
    {
     "name": "stdout",
     "output_type": "stream",
     "text": [
      "Percentage of vegan recipe:  19.7 %\n"
     ]
    }
   ],
   "source": [
    "meat_dairy = 0\n",
    "\n",
    "for i in a:\n",
    "    for j in i.index:\n",
    "        if categorie_dic[j] == 4:\n",
    "            meat_dairy +=1\n",
    "            break\n",
    "        if categorie_dic[j] == 5:\n",
    "            meat_dairy +=1\n",
    "            break\n",
    "            \n",
    "print('Percentage of vegan recipe: ',round((ingredients_frame.shape[0]- meat_dairy)*100/ingredients_frame.shape[0], 1),'%')"
   ]
  },
  {
   "cell_type": "markdown",
   "metadata": {},
   "source": [
    "## 3/ Co-occurences and Covariance\n",
    "\n",
    "### Co-occurences\n",
    "\n"
   ]
  },
  {
   "cell_type": "code",
   "execution_count": 29,
   "metadata": {},
   "outputs": [
    {
     "data": {
      "text/html": [
       "<div>\n",
       "<style>\n",
       "    .dataframe thead tr:only-child th {\n",
       "        text-align: right;\n",
       "    }\n",
       "\n",
       "    .dataframe thead th {\n",
       "        text-align: left;\n",
       "    }\n",
       "\n",
       "    .dataframe tbody tr th {\n",
       "        vertical-align: top;\n",
       "    }\n",
       "</style>\n",
       "<table border=\"1\" class=\"dataframe\">\n",
       "  <thead>\n",
       "    <tr style=\"text-align: right;\">\n",
       "      <th></th>\n",
       "      <th>acidulated water</th>\n",
       "      <th>acorn squash</th>\n",
       "      <th>agave</th>\n",
       "      <th>ale</th>\n",
       "      <th>aleppo pepper</th>\n",
       "      <th>alfalfa sprout</th>\n",
       "      <th>allspice</th>\n",
       "      <th>almond</th>\n",
       "      <th>almond extract</th>\n",
       "      <th>almond milk</th>\n",
       "      <th>...</th>\n",
       "      <th>worcestershire sauce</th>\n",
       "      <th>wrap</th>\n",
       "      <th>yam</th>\n",
       "      <th>yeast</th>\n",
       "      <th>yellow lentil</th>\n",
       "      <th>yoghurt</th>\n",
       "      <th>yogurt</th>\n",
       "      <th>yuzu</th>\n",
       "      <th>zest</th>\n",
       "      <th>zucchini</th>\n",
       "    </tr>\n",
       "  </thead>\n",
       "  <tbody>\n",
       "    <tr>\n",
       "      <th>acidulated water</th>\n",
       "      <td>1</td>\n",
       "      <td>0</td>\n",
       "      <td>0</td>\n",
       "      <td>0</td>\n",
       "      <td>0</td>\n",
       "      <td>0</td>\n",
       "      <td>0</td>\n",
       "      <td>0</td>\n",
       "      <td>0</td>\n",
       "      <td>0</td>\n",
       "      <td>...</td>\n",
       "      <td>0</td>\n",
       "      <td>0</td>\n",
       "      <td>0</td>\n",
       "      <td>0</td>\n",
       "      <td>0</td>\n",
       "      <td>0</td>\n",
       "      <td>0</td>\n",
       "      <td>0</td>\n",
       "      <td>0</td>\n",
       "      <td>0</td>\n",
       "    </tr>\n",
       "    <tr>\n",
       "      <th>acorn squash</th>\n",
       "      <td>0</td>\n",
       "      <td>64</td>\n",
       "      <td>0</td>\n",
       "      <td>0</td>\n",
       "      <td>0</td>\n",
       "      <td>0</td>\n",
       "      <td>1</td>\n",
       "      <td>1</td>\n",
       "      <td>0</td>\n",
       "      <td>0</td>\n",
       "      <td>...</td>\n",
       "      <td>0</td>\n",
       "      <td>0</td>\n",
       "      <td>1</td>\n",
       "      <td>0</td>\n",
       "      <td>0</td>\n",
       "      <td>0</td>\n",
       "      <td>1</td>\n",
       "      <td>0</td>\n",
       "      <td>0</td>\n",
       "      <td>0</td>\n",
       "    </tr>\n",
       "    <tr>\n",
       "      <th>agave</th>\n",
       "      <td>0</td>\n",
       "      <td>0</td>\n",
       "      <td>49</td>\n",
       "      <td>0</td>\n",
       "      <td>0</td>\n",
       "      <td>0</td>\n",
       "      <td>1</td>\n",
       "      <td>6</td>\n",
       "      <td>2</td>\n",
       "      <td>1</td>\n",
       "      <td>...</td>\n",
       "      <td>1</td>\n",
       "      <td>0</td>\n",
       "      <td>0</td>\n",
       "      <td>2</td>\n",
       "      <td>0</td>\n",
       "      <td>0</td>\n",
       "      <td>1</td>\n",
       "      <td>0</td>\n",
       "      <td>0</td>\n",
       "      <td>2</td>\n",
       "    </tr>\n",
       "    <tr>\n",
       "      <th>ale</th>\n",
       "      <td>0</td>\n",
       "      <td>0</td>\n",
       "      <td>0</td>\n",
       "      <td>17</td>\n",
       "      <td>0</td>\n",
       "      <td>0</td>\n",
       "      <td>0</td>\n",
       "      <td>2</td>\n",
       "      <td>0</td>\n",
       "      <td>0</td>\n",
       "      <td>...</td>\n",
       "      <td>3</td>\n",
       "      <td>0</td>\n",
       "      <td>0</td>\n",
       "      <td>0</td>\n",
       "      <td>0</td>\n",
       "      <td>0</td>\n",
       "      <td>0</td>\n",
       "      <td>0</td>\n",
       "      <td>1</td>\n",
       "      <td>0</td>\n",
       "    </tr>\n",
       "    <tr>\n",
       "      <th>aleppo pepper</th>\n",
       "      <td>0</td>\n",
       "      <td>0</td>\n",
       "      <td>0</td>\n",
       "      <td>0</td>\n",
       "      <td>4</td>\n",
       "      <td>0</td>\n",
       "      <td>0</td>\n",
       "      <td>0</td>\n",
       "      <td>0</td>\n",
       "      <td>0</td>\n",
       "      <td>...</td>\n",
       "      <td>2</td>\n",
       "      <td>0</td>\n",
       "      <td>0</td>\n",
       "      <td>0</td>\n",
       "      <td>0</td>\n",
       "      <td>0</td>\n",
       "      <td>0</td>\n",
       "      <td>0</td>\n",
       "      <td>0</td>\n",
       "      <td>0</td>\n",
       "    </tr>\n",
       "  </tbody>\n",
       "</table>\n",
       "<p>5 rows × 862 columns</p>\n",
       "</div>"
      ],
      "text/plain": [
       "                  acidulated water  acorn squash  agave  ale  aleppo pepper  \\\n",
       "acidulated water                 1             0      0    0              0   \n",
       "acorn squash                     0            64      0    0              0   \n",
       "agave                            0             0     49    0              0   \n",
       "ale                              0             0      0   17              0   \n",
       "aleppo pepper                    0             0      0    0              4   \n",
       "\n",
       "                  alfalfa sprout  allspice  almond  almond extract  \\\n",
       "acidulated water               0         0       0               0   \n",
       "acorn squash                   0         1       1               0   \n",
       "agave                          0         1       6               2   \n",
       "ale                            0         0       2               0   \n",
       "aleppo pepper                  0         0       0               0   \n",
       "\n",
       "                  almond milk    ...     worcestershire sauce  wrap  yam  \\\n",
       "acidulated water            0    ...                        0     0    0   \n",
       "acorn squash                0    ...                        0     0    1   \n",
       "agave                       1    ...                        1     0    0   \n",
       "ale                         0    ...                        3     0    0   \n",
       "aleppo pepper               0    ...                        2     0    0   \n",
       "\n",
       "                  yeast  yellow lentil  yoghurt  yogurt  yuzu  zest  zucchini  \n",
       "acidulated water      0              0        0       0     0     0         0  \n",
       "acorn squash          0              0        0       1     0     0         0  \n",
       "agave                 2              0        0       1     0     0         2  \n",
       "ale                   0              0        0       0     0     1         0  \n",
       "aleppo pepper         0              0        0       0     0     0         0  \n",
       "\n",
       "[5 rows x 862 columns]"
      ]
     },
     "metadata": {},
     "output_type": "display_data"
    }
   ],
   "source": [
    "# ----- Using K-NN to find the the association between ingredient ----- #\n",
    "newdf = testframe.notnull().astype('int')\n",
    "coocc = newdf.T.dot(newdf)\n",
    "display(coocc.head(5))"
   ]
  },
  {
   "cell_type": "markdown",
   "metadata": {},
   "source": [
    "#### Similarity and best association of ingredients\n",
    "Using the co-occurence matrice we compute with the k- Nearest Neighbourg Regression, the proximity between ingredients and end up with a combination of ingredients which would be likely associated to a specific ingredient.\n",
    "\n",
    "For instance, for apple chutney we find ingredients that is great when they are combined."
   ]
  },
  {
   "cell_type": "code",
   "execution_count": 30,
   "metadata": {},
   "outputs": [
    {
     "data": {
      "text/plain": [
       "1             lamb rack\n",
       "2           ginger beer\n",
       "3         flaked almond\n",
       "4            herbal tea\n",
       "5      japanese pumpkin\n",
       "6                 nacho\n",
       "7            soya flour\n",
       "8             milkshake\n",
       "9         clotted cream\n",
       "10               borage\n",
       "11        confectionery\n",
       "12             bechamel\n",
       "13          filo pastry\n",
       "14            soya bean\n",
       "15    lancashire cheese\n",
       "16            pecan nut\n",
       "17    chocolate biscuit\n",
       "18           co lettuce\n",
       "19                  eel\n",
       "Name: apple chutney, dtype: object"
      ]
     },
     "execution_count": 30,
     "metadata": {},
     "output_type": "execute_result"
    }
   ],
   "source": [
    "r=0.4\n",
    "number_neighbors_toshow=20\n",
    "neigh = NearestNeighbors(number_neighbors_toshow,r)\n",
    "neigh.fit(coocc.values)\n",
    "\n",
    "nn = neigh.kneighbors(coocc.values, return_distance=False)\n",
    "Nn_pd = pd.DataFrame(nn)\n",
    "dict_nn = dict(zip(range(len(testframe.columns)),list(testframe.columns)))\n",
    "Nn_pd.replace(dict_nn, inplace=True)\n",
    "Nn_pd.rename(index=dict_nn,inplace=True)\n",
    "Nn_pd.loc['apple chutney'][1:]"
   ]
  },
  {
   "cell_type": "markdown",
   "metadata": {},
   "source": [
    "### Covariance\n",
    "\n",
    "C_ij is the covariance between the i th and j th ingredients.\n",
    "\n",
    "Covariance is just unscaled correlation.  \n",
    "If a number at a certain position in the covariance matrix is large, then the variable that corresponds to that row and the variable that corresponds to that column change with one another. When one goes up, the other goes up. When one goes down, the other goes down. \n",
    "\n",
    "It will help us to know how to adjust quantity between ingredients.\n",
    "\n",
    "As we implemented 'u' unit for the ingredient that had no unit, therefore could not be directly converted to gram, we cannot numericaly analyse our dataframe. For the time being for replace u by the average of other apparition of that ingredient. We are currently, working on a method to scrap info about average weight of diverse ingredients. (cf web scrapping) "
   ]
  },
  {
   "cell_type": "code",
   "execution_count": 31,
   "metadata": {
    "collapsed": true
   },
   "outputs": [],
   "source": [
    "ratio_u_ingred={}\n",
    "test_ingredients_frame=ingredients_frame.copy()\n",
    "for ingred in list(ingredients_frame):\n",
    "    mean = ingredients_frame[ingred].apply(pd.to_numeric, errors='coerce').dropna(axis=0, how='any').mean()\n",
    "    if math.isnan(mean):\n",
    "        mean=1\n",
    "    test_ingredients_frame[ingred][ingredients_frame[ingred].astype(str).str.contains('u')]=mean\n",
    "    #calculate the ratio of unit in each ingredient:\n",
    "    ratio_u_ingred[ingred]=\\\n",
    "    sum(ingredients_frame[ingred].dropna(axis=0, how='any').astype(str).str.contains('u'))/len(ingredients_frame[ingred].dropna(axis=0, how='any').astype(str).str.contains('u'))\n",
    "\n",
    "ingr_matrix=test_ingredients_frame.fillna(0).values.T\n",
    "covar=np.cov(ingr_matrix)"
   ]
  },
  {
   "cell_type": "markdown",
   "metadata": {},
   "source": [
    "## 4/ Linear Regression\n",
    "With the linear regression on the nutrients information from the data, we will be able to compute an approximation of nutrient value for each ingredient so that we can approximate the nutrient value for the recipes which the value was missing in the dataset"
   ]
  },
  {
   "cell_type": "code",
   "execution_count": 32,
   "metadata": {
    "collapsed": true
   },
   "outputs": [],
   "source": [
    "#function that take a type of nutriment on input and output 2 dataframe \n",
    "# on which we will apply machine learning \n",
    "def predict_w(nutriment):\n",
    "    print(nutriment)\n",
    "    testframe['tot']= ingr_dataframe[nutriment]\n",
    "    test_ingredients_frame=testframe.fillna(0).copy()\n",
    "    test_ingredients_frame.replace('?',np.nan,inplace=True)\n",
    "    test_ingredients_frame.dropna(axis=0,how='any',inplace=True)\n",
    "    Train_set = test_ingredients_frame\n",
    "    X = Train_set.drop(['tot'],axis=1)\n",
    "    Y = Train_set['tot'] \n",
    "    print(X.shape)\n",
    "    X_tot=X\n",
    "    Y_tot=Y\n",
    "    return X_tot,Y_tot\n",
    "\n",
    "#------after lookin various possibility we chose the model ---------------\n",
    "#        for each nutriment that predicted them the best\n",
    "#   in general the MSLE gave lowest error and is not too sensible to outliers.\n",
    "#here we use the lowest regularizer \n",
    "def perceptron_carb():#and protein\n",
    "    model = Sequential()                                               \n",
    "    model.add(Dense(1,input_dim=ingred_nb, kernel_initializer= 'orthogonal' ,\\\n",
    "                    kernel_constraint=nonneg(),kernel_regularizer=regularizers.l2(0.01),\\\n",
    "                    activation= 'linear',use_bias=False ))\n",
    "    model.compile(loss='mean_squared_logarithmic_error', optimizer='adam', metrics=['mae']) #logarithmic loss function\n",
    "    return model\n",
    "\n",
    "#highest reguralizer because the model had a tendency to put too big weight\n",
    "def perceptron_fat():\n",
    "    model = Sequential()                                               \n",
    "    model.add(Dense(1,input_dim=ingred_nb, kernel_initializer= 'orthogonal' ,\\\n",
    "                    kernel_constraint=nonneg(),kernel_regularizer=regularizers.l2(1),\\\n",
    "                    activation= 'linear',use_bias=False ))\n",
    "    model.compile(loss='mean_squared_logarithmic_error', optimizer='adam', metrics=['mae']) #logarithmic loss function\n",
    "    return model\n",
    "\n",
    "#\n",
    "def perceptron_chol():\n",
    "    model = Sequential()                                               \n",
    "    model.add(Dense(1,input_dim=ingred_nb, kernel_initializer= 'orthogonal' ,\\\n",
    "                    kernel_constraint=nonneg(),kernel_regularizer=regularizers.l2(0.1),\\\n",
    "                    activation= 'linear',use_bias=False ))\n",
    "    model.compile(loss='mean_squared_logarithmic_error', optimizer='adam', metrics=['mae']) #logarithmic loss function\n",
    "    return model\n",
    "\n",
    "#2 layer neural net that predicted quite well for kcal. \n",
    "def predict_kcal():\n",
    "    model = Sequential()                                               \n",
    "    model.add(Dense(60,input_dim=ingred_nb, kernel_initializer= 'orthogonal' ,\\\n",
    "                    kernel_regularizer=regularizers.l2(0.1),\\\n",
    "                    activation= 'relu',use_bias=False ))\n",
    "    model.add(Dense(1, use_bias=False,kernel_initializer= 'orthogonal' , activation= 'linear' ))       #pour multivariate classi augmenter nbr d'output à Nobjet\n",
    "    model.compile(loss='mean_squared_logarithmic_error', optimizer='adam', metrics=['mae']) #logarithmic loss function\n",
    "    return model \n",
    "\n",
    "def print_result(df,index):\n",
    "    display(df.iloc[index].replace(0,np.nan).dropna())\n",
    "#kernel_regularizer=regularizers.l2(0.1)\n",
    "#other losses:'mean_squared_error' , 'mean_absolute_error','mean_squared_logarithmic_error"
   ]
  },
  {
   "cell_type": "code",
   "execution_count": 33,
   "metadata": {},
   "outputs": [
    {
     "name": "stdout",
     "output_type": "stream",
     "text": [
      "kcal_carb\n",
      "(33801, 862)\n",
      "kcal_protein\n",
      "(33795, 862)\n",
      "mg_cholesterol\n",
      "(32810, 862)\n",
      "kcal_fat\n",
      "(33779, 862)\n"
     ]
    }
   ],
   "source": [
    "#creation of the dictionnary: \n",
    "for nutriment in ['kcal_carb','kcal_protein','mg_cholesterol','kcal_fat']:\n",
    "    X,Y=predict_w(nutriment)\n",
    "    X_tot=X.values\n",
    "    Y_tot=Y.values\n",
    "    start_time = time.time()\n",
    "    [receipe_nb,ingred_nb]=X_tot.shape\n",
    "\n",
    "    if nutriment=='kcal_carb' or nutriment=='kcal_protein':\n",
    "        model=perceptron_carb()\n",
    "    elif nutriment=='mg_cholesterol':\n",
    "        model=perceptron_chol()\n",
    "    elif nutriment=='kcal_fat':\n",
    "        model=perceptron_fat()\n",
    "        \n",
    "    else: model=predict_kcal()\n",
    "    \n",
    "    model.fit(X_tot,Y_tot, epochs=40, batch_size=100,verbose=0)\n",
    "    \n",
    "    w=model.get_weights()\n",
    "    type_dic={}\n",
    "    for i,ingr in enumerate(list(X)):\n",
    "        type_dic[ingr]=float(w[0][i])\n",
    "    with open(nutriment+'.json', 'w') as fp:\n",
    "        json.dump(type_dic, fp)\n",
    "    \n",
    "    \n",
    "#for 'kcal_total' can't predict good linear relation but a Neural net can predict better"
   ]
  },
  {
   "cell_type": "code",
   "execution_count": 34,
   "metadata": {},
   "outputs": [
    {
     "name": "stdout",
     "output_type": "stream",
     "text": [
      "kcal_carb\n",
      "(33801, 862)\n",
      "Epoch 1/2\n",
      "30000/30000 [==============================] - 2s 63us/step - loss: 1.4111 - mean_absolute_error: 93.5743\n",
      "Epoch 2/2\n",
      "30000/30000 [==============================] - 2s 54us/step - loss: 0.9988 - mean_absolute_error: 86.9726\n",
      "3801/3801 [==============================] - 4s 926us/step\n",
      "\n",
      " mean_absolute_error: 8456.56\n",
      "--- 7.510301828384399 seconds ---\n",
      "[[  51.32829285]\n",
      " [  75.21524048]\n",
      " [ 122.87303162]]\n",
      "['56' '61.2' '178.4']\n",
      "\n",
      " The prediction  might have a big fluctuation but they are reasonable value for the recipes\n"
     ]
    }
   ],
   "source": [
    "#predict  for a specific case\n",
    "#or assess the quality of a model\n",
    "X,Y=predict_w('kcal_carb')\n",
    "X_tot=X.values\n",
    "Y_tot=Y.values\n",
    "X_train=X_tot[:30000]\n",
    "Y_train = Y_tot[:30000]\n",
    "start_time = time.time()\n",
    "model=perceptron_carb()\n",
    "model.fit(X_train,Y_train, epochs=2, batch_size=100,verbose=1)\n",
    "X_test = X_tot[30000:]\n",
    "Y_test = Y_tot[30000:]\n",
    "scores=model.evaluate(X_test,Y_test,batch_size=1)\n",
    "print(\"\\n %s: %.2f\" % (model.metrics_names[1], scores[1]*100))\n",
    "print(\"--- %s seconds ---\" % (time.time() - start_time))\n",
    "\n",
    "Y_predict=model.predict(X_test)\n",
    "print(Y_predict[0:3])\n",
    "print(Y_test[0:3])\n",
    "\n",
    "\n",
    "print('\\n The prediction  might have a big fluctuation but they are reasonable value for the recipes')"
   ]
  },
  {
   "cell_type": "code",
   "execution_count": 47,
   "metadata": {},
   "outputs": [
    {
     "name": "stdout",
     "output_type": "stream",
     "text": [
      "To illustrate our result let's see what nutritional values we have for an apple: \n",
      "\n"
     ]
    },
    {
     "data": {
      "text/html": [
       "<div>\n",
       "<style>\n",
       "    .dataframe thead tr:only-child th {\n",
       "        text-align: right;\n",
       "    }\n",
       "\n",
       "    .dataframe thead th {\n",
       "        text-align: left;\n",
       "    }\n",
       "\n",
       "    .dataframe tbody tr th {\n",
       "        vertical-align: top;\n",
       "    }\n",
       "</style>\n",
       "<table border=\"1\" class=\"dataframe\">\n",
       "  <thead>\n",
       "    <tr style=\"text-align: right;\">\n",
       "      <th></th>\n",
       "      <th>Approximate Tabled values for 100 g</th>\n",
       "      <th>Fit</th>\n",
       "    </tr>\n",
       "  </thead>\n",
       "  <tbody>\n",
       "    <tr>\n",
       "      <th>kcal_carb</th>\n",
       "      <td>14</td>\n",
       "      <td>10.1189</td>\n",
       "    </tr>\n",
       "    <tr>\n",
       "      <th>kcal_protein</th>\n",
       "      <td>0.3</td>\n",
       "      <td>1.85164</td>\n",
       "    </tr>\n",
       "    <tr>\n",
       "      <th>mg_cholesterol</th>\n",
       "      <td>0</td>\n",
       "      <td>-0</td>\n",
       "    </tr>\n",
       "    <tr>\n",
       "      <th>kcal_fat</th>\n",
       "      <td>0.2</td>\n",
       "      <td>0.449607</td>\n",
       "    </tr>\n",
       "  </tbody>\n",
       "</table>\n",
       "</div>"
      ],
      "text/plain": [
       "               Approximate Tabled values for 100 g       Fit\n",
       "kcal_carb                                       14   10.1189\n",
       "kcal_protein                                   0.3   1.85164\n",
       "mg_cholesterol                                   0        -0\n",
       "kcal_fat                                       0.2  0.449607"
      ]
     },
     "metadata": {},
     "output_type": "display_data"
    }
   ],
   "source": [
    "#or just to load the dics:\n",
    "nutriment_dic={}\n",
    "for type_ in ['kcal_carb','kcal_protein','mg_cholesterol','kcal_fat']:\n",
    "    with open(type_+'.json', 'r') as fp:\n",
    "        nutriment_dic[type_] = json.load(fp)\n",
    "        \n",
    "print(\"To illustrate our result let's see what nutritional values we have for an apple: \\n\")\n",
    "comparaison=pd.DataFrame(index=['kcal_carb','kcal_protein','mg_cholesterol','kcal_fat']\\\n",
    "                        ,columns=['Approximate Tabled values for 100 g','Fit'])\n",
    "comparaison['Approximate Tabled values for 100 g']['kcal_carb']=14\n",
    "comparaison['Approximate Tabled values for 100 g']['kcal_protein']=0.3\n",
    "comparaison['Approximate Tabled values for 100 g']['mg_cholesterol']=0\n",
    "comparaison['Approximate Tabled values for 100 g']['kcal_fat']=0.2\n",
    "\n",
    "test = 'apricot'\n",
    "comparaison['Fit']['kcal_carb']=nutriment_dic['kcal_carb'][test]*100\n",
    "comparaison['Fit']['kcal_protein']=nutriment_dic['kcal_protein'][test]*100\n",
    "comparaison['Fit']['mg_cholesterol']=nutriment_dic['mg_cholesterol'][test]*100\n",
    "comparaison['Fit']['kcal_fat']=nutriment_dic['kcal_fat'][test]*100\n",
    "\n",
    "display(comparaison)"
   ]
  },
  {
   "cell_type": "markdown",
   "metadata": {},
   "source": [
    "## 5/ Compute new special recipes\n",
    "\n",
    "From the result of the KNN Regression, we could extract the list of ingredient with high interaction to a specific ingredient. Then we create recipe from that we a random number of ingredient per categorie subject to Nutrition Constraints."
   ]
  },
  {
   "cell_type": "code",
   "execution_count": 36,
   "metadata": {
    "collapsed": true
   },
   "outputs": [],
   "source": [
    "# Load the categorie associated to each ingredient and construct a dictionary\n",
    "ingredients_categories = pd.read_csv('Webscrapping by little people - Feuille 1.csv',sep=',')\n",
    "categorie_dic = ingredients_categories.set_index('Ingredient')['Category'].to_dict()\n",
    "\n",
    "# List of ingredient for each recipe, in order to extract the recipe with the specific ingredient asked\n",
    "list_to_check_ingredient = list(map(lambda x : ingredients_frame.loc[x].dropna(),range(ingredients_frame.shape[0])))"
   ]
  },
  {
   "cell_type": "code",
   "execution_count": 62,
   "metadata": {},
   "outputs": [],
   "source": [
    "# Function to define the quantity for each ingredient in the recipe according to the quantity entered by the user\n",
    "def ingredient_quantities(ingridient_list,mean_ingridient,quantity):\n",
    "\n",
    "    main = ingridient_list[0]\n",
    "    quantity_ratio = []\n",
    "    for i in ingridient_list:\n",
    "        quantity_ratio.append(round((mean_ingridient[i]*quantity)/mean_ingridient[main]))\n",
    "    return quantity_ratio\n",
    "\n",
    "# Create the recipe\n",
    "def special_recipe(Ingredient ,Quantity, Vegan = False,Vegetarian=False,Healthy=False):\n",
    "# Create a counter in order to not have too much ingredient from the same category\n",
    "    count_max = [randint(1,2),randint(1,2),randint(1,2),randint(1,2),1,randint(1,2),randint(1,2)]\n",
    "    \n",
    "# Condition to respect constraint\n",
    "    if (Vegan == True):\n",
    "        elem = [5,4]\n",
    "        count_max[4]=0\n",
    "        count_max[5]=0\n",
    "        if int(categorie_dic[Ingredient]) in elem:\n",
    "            return('You want to eat vegan with a non vegan ingredient')\n",
    "    if (Vegetarian == True):\n",
    "        count_max[4]=0\n",
    "        if int(categorie_dic[Ingredient]) == 4:\n",
    "            return('You want to eat vegatarian with a meat as ingredient')\n",
    "        \n",
    "    \"\"\"if (Healthy == True):\n",
    "        elem = [5,0,3]              \n",
    "        count_max[5]=0\n",
    "        count_max[0]=0\n",
    "        count_max[3]=0\n",
    "        if int(categorie_dic[Ingredient]) in elem:\n",
    "            return(\"It's impossible to create healthy recipe with this ingredient, Sorry\")\"\"\"\n",
    "\n",
    "# Create recipe by picking a ingredient in the list from KNN regression\n",
    "    count_gen =np.zeros(7)\n",
    "    Recipe = []\n",
    "    count_gen[int(categorie_dic[Ingredient])] += int(1)\n",
    "    Recipe.append(Ingredient)\n",
    "    ing_layer1 = Nn_pd.loc[Ingredient][1:].values.tolist()\n",
    "    dic_ing_layer1 = list(map(lambda x: int(categorie_dic[x]),ing_layer1))\n",
    "    i = 0\n",
    "    while not (np.array_equal(count_gen,count_max)): # While the counter is not complete, the algorithm tries to complete the recipe\n",
    "        \n",
    "    # This part remove all the ingredient from the list which their counter is full\n",
    "        if (count_gen[0] == count_max[0]):\n",
    "            drop = [i for i,x in enumerate(dic_ing_layer1) if x==0]\n",
    "            ing_layer1 = [i for j, i in enumerate(ing_layer1) if j not in drop]\n",
    "            dic_ing_layer1 = [i for j, i in enumerate(dic_ing_layer1) if j not in drop]\n",
    "        if (count_gen[1] == count_max[1]):\n",
    "            drop = [i for i,x in enumerate(dic_ing_layer1) if x==1]\n",
    "            ing_layer1 = [i for j, i in enumerate(ing_layer1) if j not in drop]\n",
    "            dic_ing_layer1 = [i for j, i in enumerate(dic_ing_layer1) if j not in drop]\n",
    "        if (count_gen[2] == count_max[2]):\n",
    "            drop = [i for i,x in enumerate(dic_ing_layer1) if x==2]\n",
    "            ing_layer1 = [i for j, i in enumerate(ing_layer1) if j not in drop]\n",
    "            dic_ing_layer1 = [i for j, i in enumerate(dic_ing_layer1) if j not in drop]\n",
    "        if (count_gen[3] == count_max[3]):\n",
    "            drop = [i for i,x in enumerate(dic_ing_layer1) if x==3]\n",
    "            ing_layer1 = [i for j, i in enumerate(ing_layer1) if j not in drop]\n",
    "            dic_ing_layer1 = [i for j, i in enumerate(dic_ing_layer1) if j not in drop]\n",
    "        if (count_gen[4] == count_max[4]):\n",
    "            drop = [i for i,x in enumerate(dic_ing_layer1) if x==4]\n",
    "            ing_layer1 = [i for j, i in enumerate(ing_layer1) if j not in drop]\n",
    "            dic_ing_layer1 = [i for j, i in enumerate(dic_ing_layer1) if j not in drop]\n",
    "        if (count_gen[5] == count_max[5]):\n",
    "            drop = [i for i,x in enumerate(dic_ing_layer1) if x==5]\n",
    "            ing_layer1 = [i for j, i in enumerate(ing_layer1) if j not in drop]\n",
    "            dic_ing_layer1 = [i for j, i in enumerate(dic_ing_layer1) if j not in drop]\n",
    "        if (count_gen[6] == count_max[6]):\n",
    "            drop = [i for i,x in enumerate(dic_ing_layer1) if x==6]\n",
    "            ing_layer1 = [i for j, i in enumerate(ing_layer1) if j not in drop]\n",
    "            dic_ing_layer1 = [i for j, i in enumerate(dic_ing_layer1) if j not in drop]\n",
    "        if not (ing_layer1):\n",
    "            break\n",
    "        \n",
    "        x = random.choice(ing_layer1)\n",
    "        if (Healthy == True):\n",
    "            while (nutriment_dic['kcal_fat'][x]*100 > 1):\n",
    "                x = random.choice(ing_layer1)\n",
    "        Recipe.append(x)\n",
    "        count_gen[int(categorie_dic[x])] += int(1)\n",
    "        ing_layer1 = ing_layer1 + Nn_pd.loc[x][1:].values.tolist()\n",
    "        ing_layer1.remove(x)\n",
    "        dic_ing_layer1 = list(map(lambda x: categorie_dic[x],ing_layer1))\n",
    "    print('\\033[4mList of ingredients:\\033[0m ',*Recipe, '\\n', sep= '|')\n",
    "    \n",
    "# Nutrients informations for the special recipe\n",
    "    Kcal_carb = np.sum(list(map(lambda x : nutriment_dic['kcal_carb'][x]*100,Recipe)))\n",
    "    Kcal_prot = np.sum(list(map(lambda x : nutriment_dic['kcal_protein'][x]*100,Recipe)))\n",
    "    Kcal_fat = np.sum(list(map(lambda x : nutriment_dic['kcal_fat'][x]*100,Recipe)))\n",
    "    cholest = np.sum(list(map(lambda x : nutriment_dic['mg_cholesterol'][x]*100,Recipe)))\n",
    "    \n",
    "# Return the quantity for each ingredient selected in the recipe\n",
    "    mean_ingridient = testframe.mean()\n",
    "    quantity = ingredient_quantities(Recipe,mean_ingridient,float(Quantity))\n",
    "\n",
    "# This Part create the sentence where the ingredient appears with their quantity and their preparation techniques\n",
    "    recip_dic = list(map(lambda x: categorie_dic[x],Recipe))\n",
    "    \n",
    "    drop = [i for i,x in enumerate(recip_dic) if x==0]\n",
    "    quantity_other = [i for j, i in enumerate(quantity) if j in drop]\n",
    "    Other = [i for j, i in enumerate(Recipe) if j in drop]\n",
    "    drop = [i for i,x in enumerate(recip_dic) if x==1]\n",
    "    Fruit = [i for j, i in enumerate(Recipe) if j in drop]\n",
    "    quantity_fruit = [i for j, i in enumerate(quantity) if j in drop]\n",
    "    drop = [i for i,x in enumerate(recip_dic) if x==2]\n",
    "    Vegetable = [i for j, i in enumerate(Recipe) if j in drop]\n",
    "    quantity_veg = [i for j, i in enumerate(quantity) if j in drop]\n",
    "    drop = [i for i,x in enumerate(recip_dic) if x==3]\n",
    "    Sides = [i for j, i in enumerate(Recipe) if j in drop]\n",
    "    quantity_sides = [i for j, i in enumerate(quantity) if j in drop]\n",
    "    drop = [i for i,x in enumerate(recip_dic) if x==4]\n",
    "    quantity_meat = [i for j, i in enumerate(quantity) if j in drop]\n",
    "    Meat = [i for j, i in enumerate(Recipe) if j in drop]\n",
    "    drop = [i for i,x in enumerate(recip_dic) if x==5]\n",
    "    Dairy = [i for j, i in enumerate(Recipe) if j in drop]\n",
    "    quantity_dairy = [i for j, i in enumerate(quantity) if j in drop]\n",
    "    drop = [i for i,x in enumerate(recip_dic) if x==6]\n",
    "    Spice = [i for j, i in enumerate(Recipe) if j in drop]\n",
    "    quantity_spice = [i for j, i in enumerate(quantity) if j in drop]\n",
    "    \n",
    "    def select_tec(name):\n",
    "        if (len(dict_tec[name]) >0):\n",
    "            s_tec = random.choice(dict_tec[name])\n",
    "            if(s_tec == 'removed'):\n",
    "                s_tec = ''\n",
    "            if(s_tec == 'divided'):\n",
    "                s_tec = ''\n",
    "        else:\n",
    "            s_tec =''\n",
    "        return(s_tec)\n",
    "    \n",
    "    veg_fruit_text = list(map( lambda x : ' grams '.join(x[0]),list(map(lambda x : [[str(x[0])]+[x[1]]],[[m,n] for m,n in zip((quantity_veg+quantity_fruit),(list(map(lambda x : select_tec(x)+' '+x,Vegetable+Fruit))))]))))\n",
    "    spices_text = list(map( lambda x : ' grams '.join(x[0]),list(map(lambda x : [[str(x[0])]+[x[1]]],[[m,n] for m,n in zip((quantity_spice),(list(map(lambda x : select_tec(x)+' '+x,Spice))))]))))\n",
    "    sides_text = list(map( lambda x : ' grams '.join(x[0]),list(map(lambda x : [[str(x[0])]+[x[1]]],[[m,n] for m,n in zip((quantity_sides),(list(map(lambda x : select_tec(x)+' '+x,Sides))))]))))\n",
    "    meat_text = list(map( lambda x : ' grams '.join(x[0]),list(map(lambda x : [[str(x[0])]+[x[1]]],[[m,n] for m,n in zip((quantity_meat),(list(map(lambda x : select_tec(x)+' '+x,Meat))))]))))\n",
    "    other_dairy_text = list(map( lambda x : ' grams '.join(x[0]),list(map(lambda x : [[str(x[0])]+[x[1]]],[[m,n] for m,n in zip((quantity_other+quantity_dairy),(list(map(lambda x : select_tec(x)+' '+x,Other+Dairy))))]))))\n",
    "    \n",
    "\n",
    "# Part to return existing recipes in the dataset containing the ingredient chosen by the user\n",
    "    \n",
    "    recipe_with = []\n",
    "    y = []\n",
    "    for num,i in enumerate(list_to_check_ingredient):\n",
    "        for j in i.index:\n",
    "            if j == Ingredient:\n",
    "                recipe_with.append(num)\n",
    "                break\n",
    "                \n",
    "    if len(recipe_with) >1:\n",
    "        y = np.random.choice(recipe_with,size = 4, replace=False)            \n",
    "    else:\n",
    "        y = recipe_with\n",
    "\n",
    "    if (Vegan == True):\n",
    "        print(emoji.emojize('- :tomato: Cook the '),*veg_fruit_text,'\\n\\n- And season all with the following spices',*spices_text,emoji.emojize(':honey_pot: to taste. \\n\\n' '- Eat with'),*sides_text,emoji.emojize('as sides :spaghetti: to the meal.'), emoji.emojize('\\n\\n- To enhance this meal do not hesitate twice to add :rice_cracker:'),*other_dairy_text,sep= '| ') \n",
    "    elif Vegetarian == True:\n",
    "        print(emoji.emojize('- :meat_on_bone: Cook the '),*meat_text,emoji.emojize('\\n\\n- :tomato: Accompanied with the '),*veg_fruit_text,'\\n\\n- And season all with the following spices',*spices_text,emoji.emojize(':honey_pot: to taste. \\n\\n' '- Eat with'),*sides_text,emoji.emojize('as sides :spaghetti: to the meal.'), emoji.emojize('\\n\\n- To enhance this meal do not hesitate twice to add :rice_cracker:'),*other_dairy_text,sep= '| ') \n",
    "\n",
    "    else:\n",
    "        print(emoji.emojize('- :meat_on_bone: Cook the '),*meat_text,emoji.emojize('\\n\\n- :tomato: Accompanied with the '),*veg_fruit_text,'\\n\\n- And season all with the following spices',*spices_text,emoji.emojize(':honey_pot: to taste. \\n\\n' '- Eat with'),*sides_text,emoji.emojize('as sides :spaghetti: to the meal.'), emoji.emojize('\\n\\n- To enhance this meal do not hesitate twice to add :rice_cracker:'),*other_dairy_text,sep= '| ') \n",
    "    \n",
    "    print(\"\\n \\033[4mNUTRITION INFO:\\033[0m \\n\",'Per 100g')\n",
    "    print('Cholesterol : ',round(Kcal_carb,0),'mg')\n",
    "    print('Total Carbohydrate : ',round(Kcal_carb,0), 'g')\n",
    "    print('Protein : ',round(Kcal_prot,0), 'g')\n",
    "    print('Total Fat : ',round(Kcal_fat,0), 'g')\n",
    "    print('Total Calorie : ',round(Kcal_carb*4+Kcal_prot*4+Kcal_fat*9,0))\n",
    "    \n",
    "    print_existing_site = list(map(lambda x : x,[m+'\\n' +n for m,n in zip(ingr_dataframe['title'][y].values,ingr_dataframe['url'][y].values)]))\n",
    "    print('\\n\\n \\033[4mExisting recipe(s):\\033[0m', *print_existing_site,sep= '\\n ')\n",
    "    \n",
    "   "
   ]
  },
  {
   "cell_type": "markdown",
   "metadata": {},
   "source": [
    "### Interactive interface creating and print the recipe"
   ]
  },
  {
   "cell_type": "code",
   "execution_count": 63,
   "metadata": {
    "scrolled": false
   },
   "outputs": [
    {
     "data": {
      "application/vnd.jupyter.widget-view+json": {
       "model_id": "520eb16a1aea44269f1241a354f999a2"
      }
     },
     "metadata": {},
     "output_type": "display_data"
    }
   ],
   "source": [
    "from ipywidgets import interact, interactive, fixed, interact_manual\n",
    "\n",
    "import ipywidgets as widgets\n",
    "\n",
    "interact(special_recipe, Ingredient=testframe.columns.values,Quantity ='200');"
   ]
  },
  {
   "cell_type": "code",
   "execution_count": null,
   "metadata": {
    "collapsed": true
   },
   "outputs": [],
   "source": []
  }
 ],
 "metadata": {
  "kernelspec": {
   "display_name": "Python 3",
   "language": "python",
   "name": "python3"
  },
  "language_info": {
   "codemirror_mode": {
    "name": "ipython",
    "version": 3
   },
   "file_extension": ".py",
   "mimetype": "text/x-python",
   "name": "python",
   "nbconvert_exporter": "python",
   "pygments_lexer": "ipython3",
   "version": "3.6.1"
  }
 },
 "nbformat": 4,
 "nbformat_minor": 2
}
