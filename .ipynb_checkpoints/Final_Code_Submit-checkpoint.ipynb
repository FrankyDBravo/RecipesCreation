{
 "cells": [
  {
   "cell_type": "markdown",
   "metadata": {},
   "source": [
    "# Project - The Food symphony 🥙\n",
    " <p><div class=\"lev1\"><a href=\"#1/-Introduction-of-the-structure\"><span class=\"toc-item-num\">1.&nbsp;&nbsp;</span>Introduction of the structure</a></div>\n",
    "  <div class=\"lev3\"><a href=\"#2/-Preprocessing-the-ingredients-data-(Missing-values,-upper-cases,-natural-language-processing)\"><span class=\"toc-item-num\">2.&nbsp;&nbsp;</span>Preprocessing the ingredients data (Missing values, upper cases, natural language processing)</a></div>\n",
    "  <div class=\"lev3\"><a href=\"#3/-Co-occurences-and-Covariance\"><span class=\"toc-item-num\">3.&nbsp;&nbsp;</span>Co-occurences and Covariance</a></div>\n",
    "  <div class=\"lev3\"><a href=\"#4/-Linear-Regression\"><span class=\"toc-item-num\">4.&nbsp;&nbsp;</span>Linear Regression</a></div>\n",
    "  <div class=\"lev3\"><a href=\"#5/-Next-step-and-final-goal\"><span class=\"toc-item-num\">5.&nbsp;&nbsp;</span>Next step and final goal</a></div>"
   ]
  },
  {
   "cell_type": "markdown",
   "metadata": {},
   "source": [
    "## 1/ Introduction of the structure\n",
    "First of all, in this section, we remind and describe in detail the overall structure of the our project: the steps and the goals.\n",
    "\n",
    "The diagram below gives an illustrated overview:\n",
    "\n",
    "<img src=\"Structure.jpeg\" width=900>\n",
    "\n",
    "The diagram illustrates the work we have been doing until now for the food symphony project. The first part consists in filtering the raw data in order to get a clean data set where we could do some analysis and perform machine learning algorithms on it.\n",
    "\n",
    "The most important step in the first part of the project  and the most time consuming  was to design filters that enable us to get a proper data set to analyse. Indeed, we had to deal with a lot of different typos containing valid information. Instead of skipping data,  we did our best to drag out all the available information.\n",
    "\n",
    "The first filtering step was to deal with special characters and filter useless parenthesis. After this first filtering step, we decided to create 3 lists (cf list_creation.py) in order to select in the recepies the information about unit, ingredients and the technics to apply for each ingredient. The ingredients that didn’t have a valid name were not taken into account, the ones with a quantity 'x' but no valid unit were added as 'x unit'. \n",
    "The unit list, was created by hand, by checking information in Wikipedia. The techniques list was done by using the raw data, and taking all the verbs in the past tense. The ingredients list was create by web scraping. \n",
    "\n",
    "Once the filtering is done, we create a data frame with the ingredients as columns and the recipes as rows.\n",
    " We create the co-occurrence matrix and the covariance matrix to make a first analysis, and we will use them in order to create new recipes.\n",
    " \n",
    "Additionally, we generate a data frame containing unit weight by ingredient. This dataset will be very helpful to improve our current results in the prediction of the recipe calories contempt, while using linear regression models.\n",
    "\n",
    "\n"
   ]
  },
  {
   "cell_type": "markdown",
   "metadata": {},
   "source": [
    "## Initializing data"
   ]
  },
  {
   "cell_type": "code",
   "execution_count": 1,
   "metadata": {},
   "outputs": [
    {
     "name": "stderr",
     "output_type": "stream",
     "text": [
      "/Users/jonathan/anaconda/lib/python3.6/importlib/_bootstrap.py:205: RuntimeWarning: compiletime version 3.5 of module 'tensorflow.python.framework.fast_tensor_util' does not match runtime version 3.6\n",
      "  return f(*args, **kwds)\n",
      "Using TensorFlow backend.\n"
     ]
    },
    {
     "data": {
      "text/html": [
       "<div>\n",
       "<style>\n",
       "    .dataframe thead tr:only-child th {\n",
       "        text-align: right;\n",
       "    }\n",
       "\n",
       "    .dataframe thead th {\n",
       "        text-align: left;\n",
       "    }\n",
       "\n",
       "    .dataframe tbody tr th {\n",
       "        vertical-align: top;\n",
       "    }\n",
       "</style>\n",
       "<table border=\"1\" class=\"dataframe\">\n",
       "  <thead>\n",
       "    <tr style=\"text-align: right;\">\n",
       "      <th></th>\n",
       "      <th>domain</th>\n",
       "      <th>url</th>\n",
       "      <th>kcal_total</th>\n",
       "      <th>kcal_carb</th>\n",
       "      <th>kcal_fat</th>\n",
       "      <th>kcal_protein</th>\n",
       "      <th>mg_sodium</th>\n",
       "      <th>mg_cholesterol</th>\n",
       "      <th>title</th>\n",
       "      <th>title_bag-of-words</th>\n",
       "      <th>ingredients_list</th>\n",
       "      <th>ingredients_bag-of-words</th>\n",
       "    </tr>\n",
       "  </thead>\n",
       "  <tbody>\n",
       "    <tr>\n",
       "      <th>0</th>\n",
       "      <td>recipes.sparkpeople.com</td>\n",
       "      <td>http://recipes.sparkpeople.com/recipe-detail.a...</td>\n",
       "      <td>257.1</td>\n",
       "      <td>220</td>\n",
       "      <td>7.2</td>\n",
       "      <td>21.2</td>\n",
       "      <td>95.4</td>\n",
       "      <td>2.5</td>\n",
       "      <td>Easy Light Chocolate Milkshake Recipe</td>\n",
       "      <td>chocolate easy light milkshake recipe</td>\n",
       "      <td>put one half cup of milk, 4 tablespoons of cho...</td>\n",
       "      <td>! , . 4 ? and are blend chocolate cup enjoy ex...</td>\n",
       "    </tr>\n",
       "    <tr>\n",
       "      <th>1</th>\n",
       "      <td>foodnetwork.com</td>\n",
       "      <td>http://www.foodnetwork.com/recipes/rachael-ray...</td>\n",
       "      <td>?</td>\n",
       "      <td>?</td>\n",
       "      <td>?</td>\n",
       "      <td>?</td>\n",
       "      <td>?</td>\n",
       "      <td>?</td>\n",
       "      <td>Lamb Stew Recipe : : Recipes : Food Network</td>\n",
       "      <td>: food lamb network recipe recipes stew</td>\n",
       "      <td>5 yellow onions|2 turnips|5 carrots|1 stalk fe...</td>\n",
       "      <td>, 1 1\\/2 1\\/4 1\\/8 1Â 1\\/2 2 3 5 and anise app...</td>\n",
       "    </tr>\n",
       "    <tr>\n",
       "      <th>2</th>\n",
       "      <td>foodnetwork.com</td>\n",
       "      <td>http://www.foodnetwork.com/recipes/paula-deen/...</td>\n",
       "      <td>?</td>\n",
       "      <td>?</td>\n",
       "      <td>?</td>\n",
       "      <td>?</td>\n",
       "      <td>?</td>\n",
       "      <td>?</td>\n",
       "      <td>Chocolate Bread Pudding Recipe : Paula Deen : ...</td>\n",
       "      <td>: bread chocolate deen food network paula pudd...</td>\n",
       "      <td>1 (1-pound) loaf French or Italian bread, cube...</td>\n",
       "      <td>, -lrb- -rrb- 1 1-pound 1\\/2 1\\/4 1Â 1\\/2 2 3 ...</td>\n",
       "    </tr>\n",
       "    <tr>\n",
       "      <th>3</th>\n",
       "      <td>cdkitchen.com</td>\n",
       "      <td>http://www.cdkitchen.com/recipes/recs/32/Snowb...</td>\n",
       "      <td>?</td>\n",
       "      <td>?</td>\n",
       "      <td>?</td>\n",
       "      <td>?</td>\n",
       "      <td>?</td>\n",
       "      <td>?</td>\n",
       "      <td>Snowball Cookies II Recipe</td>\n",
       "      <td>cookies ii recipe snowball</td>\n",
       "      <td>1/2 cup powdered sugar|1/3 cup butter or marga...</td>\n",
       "      <td>1 1\\/2 1\\/3 2 almond baking bisquick butter ch...</td>\n",
       "    </tr>\n",
       "    <tr>\n",
       "      <th>4</th>\n",
       "      <td>cdkitchen.com</td>\n",
       "      <td>http://www.cdkitchen.com/recipes/recs/38/Old_F...</td>\n",
       "      <td>192</td>\n",
       "      <td>120</td>\n",
       "      <td>63</td>\n",
       "      <td>12</td>\n",
       "      <td>?</td>\n",
       "      <td>?</td>\n",
       "      <td>Old Fashioned Butterscotch Pie Recipe #31698</td>\n",
       "      <td># 31698 butterscotch fashioned old pie recipe</td>\n",
       "      <td>1 1/2 cup brown sugar|1 cup water|3 eggs|4 tab...</td>\n",
       "      <td>1 1\\/2 1\\/4 1Â 1\\/2 3 4 brown butter cream cup...</td>\n",
       "    </tr>\n",
       "  </tbody>\n",
       "</table>\n",
       "</div>"
      ],
      "text/plain": [
       "                    domain                                                url  \\\n",
       "0  recipes.sparkpeople.com  http://recipes.sparkpeople.com/recipe-detail.a...   \n",
       "1          foodnetwork.com  http://www.foodnetwork.com/recipes/rachael-ray...   \n",
       "2          foodnetwork.com  http://www.foodnetwork.com/recipes/paula-deen/...   \n",
       "3            cdkitchen.com  http://www.cdkitchen.com/recipes/recs/32/Snowb...   \n",
       "4            cdkitchen.com  http://www.cdkitchen.com/recipes/recs/38/Old_F...   \n",
       "\n",
       "  kcal_total kcal_carb kcal_fat kcal_protein mg_sodium mg_cholesterol  \\\n",
       "0      257.1       220      7.2         21.2      95.4            2.5   \n",
       "1          ?         ?        ?            ?         ?              ?   \n",
       "2          ?         ?        ?            ?         ?              ?   \n",
       "3          ?         ?        ?            ?         ?              ?   \n",
       "4        192       120       63           12         ?              ?   \n",
       "\n",
       "                                               title  \\\n",
       "0              Easy Light Chocolate Milkshake Recipe   \n",
       "1        Lamb Stew Recipe : : Recipes : Food Network   \n",
       "2  Chocolate Bread Pudding Recipe : Paula Deen : ...   \n",
       "3                         Snowball Cookies II Recipe   \n",
       "4       Old Fashioned Butterscotch Pie Recipe #31698   \n",
       "\n",
       "                                  title_bag-of-words  \\\n",
       "0              chocolate easy light milkshake recipe   \n",
       "1            : food lamb network recipe recipes stew   \n",
       "2  : bread chocolate deen food network paula pudd...   \n",
       "3                         cookies ii recipe snowball   \n",
       "4      # 31698 butterscotch fashioned old pie recipe   \n",
       "\n",
       "                                    ingredients_list  \\\n",
       "0  put one half cup of milk, 4 tablespoons of cho...   \n",
       "1  5 yellow onions|2 turnips|5 carrots|1 stalk fe...   \n",
       "2  1 (1-pound) loaf French or Italian bread, cube...   \n",
       "3  1/2 cup powdered sugar|1/3 cup butter or marga...   \n",
       "4  1 1/2 cup brown sugar|1 cup water|3 eggs|4 tab...   \n",
       "\n",
       "                            ingredients_bag-of-words  \n",
       "0  ! , . 4 ? and are blend chocolate cup enjoy ex...  \n",
       "1  , 1 1\\/2 1\\/4 1\\/8 1Â 1\\/2 2 3 5 and anise app...  \n",
       "2  , -lrb- -rrb- 1 1-pound 1\\/2 1\\/4 1Â 1\\/2 2 3 ...  \n",
       "3  1 1\\/2 1\\/3 2 almond baking bisquick butter ch...  \n",
       "4  1 1\\/2 1\\/4 1Â 1\\/2 3 4 brown butter cream cup...  "
      ]
     },
     "execution_count": 1,
     "metadata": {},
     "output_type": "execute_result"
    }
   ],
   "source": [
    "# ----- Librairies ----- #\n",
    "import pandas as pd\n",
    "import re\n",
    "import sys\n",
    "import numpy as np\n",
    "import nltk\n",
    "from nltk.corpus import wordnet as wn\n",
    "from nltk import pos_tag\n",
    "from nltk.tag import UnigramTagger\n",
    "from nltk.corpus import brown\n",
    "import webcolors\n",
    "from IPython.display import display\n",
    "import random\n",
    "from random import randint\n",
    "import time\n",
    "\n",
    "\n",
    "import tensorflow as tf\n",
    "from keras import regularizers\n",
    "from keras.constraints import maxnorm, nonneg\n",
    "from keras.models import Sequential\n",
    "from keras.layers import Dense\n",
    "from keras.utils import np_utils\n",
    "from keras import optimizers\n",
    "from sklearn.metrics import mean_absolute_error\n",
    "from sklearn.linear_model import LinearRegression\n",
    "\n",
    "\n",
    "import matplotlib.pyplot as plt\n",
    "import math\n",
    "\n",
    "from sklearn.neighbors import NearestNeighbors\n",
    "import emoji\n",
    "# ----- Loading the dataset'recipeInfo_WestWhiteHorvitz_WWW2013.csv' ----- #\n",
    "\n",
    "data_file='./recipeInfo_WestWhiteHorvitz_WWW2013_modified.csv'\n",
    "raw_data = pd.read_csv(data_file ,sep=';')\n",
    "raw_data.head(5)"
   ]
  },
  {
   "cell_type": "markdown",
   "metadata": {},
   "source": [
    "### Vizualizing nutrients data\n",
    "Extract the nutrients from the dataset which will be used it the regression model"
   ]
  },
  {
   "cell_type": "code",
   "execution_count": 2,
   "metadata": {},
   "outputs": [
    {
     "data": {
      "text/html": [
       "<div>\n",
       "<style>\n",
       "    .dataframe thead tr:only-child th {\n",
       "        text-align: right;\n",
       "    }\n",
       "\n",
       "    .dataframe thead th {\n",
       "        text-align: left;\n",
       "    }\n",
       "\n",
       "    .dataframe tbody tr th {\n",
       "        vertical-align: top;\n",
       "    }\n",
       "</style>\n",
       "<table border=\"1\" class=\"dataframe\">\n",
       "  <thead>\n",
       "    <tr style=\"text-align: right;\">\n",
       "      <th></th>\n",
       "      <th>title</th>\n",
       "      <th>kcal_total</th>\n",
       "      <th>kcal_carb</th>\n",
       "      <th>kcal_fat</th>\n",
       "      <th>kcal_protein</th>\n",
       "      <th>mg_sodium</th>\n",
       "      <th>mg_cholesterol</th>\n",
       "    </tr>\n",
       "  </thead>\n",
       "  <tbody>\n",
       "    <tr>\n",
       "      <th>0</th>\n",
       "      <td>Easy Light Chocolate Milkshake Recipe</td>\n",
       "      <td>257.1</td>\n",
       "      <td>220</td>\n",
       "      <td>7.2</td>\n",
       "      <td>21.2</td>\n",
       "      <td>95.4</td>\n",
       "      <td>2.5</td>\n",
       "    </tr>\n",
       "    <tr>\n",
       "      <th>1</th>\n",
       "      <td>Lamb Stew Recipe : : Recipes : Food Network</td>\n",
       "      <td>?</td>\n",
       "      <td>?</td>\n",
       "      <td>?</td>\n",
       "      <td>?</td>\n",
       "      <td>?</td>\n",
       "      <td>?</td>\n",
       "    </tr>\n",
       "    <tr>\n",
       "      <th>2</th>\n",
       "      <td>Chocolate Bread Pudding Recipe : Paula Deen : ...</td>\n",
       "      <td>?</td>\n",
       "      <td>?</td>\n",
       "      <td>?</td>\n",
       "      <td>?</td>\n",
       "      <td>?</td>\n",
       "      <td>?</td>\n",
       "    </tr>\n",
       "    <tr>\n",
       "      <th>3</th>\n",
       "      <td>Snowball Cookies II Recipe</td>\n",
       "      <td>?</td>\n",
       "      <td>?</td>\n",
       "      <td>?</td>\n",
       "      <td>?</td>\n",
       "      <td>?</td>\n",
       "      <td>?</td>\n",
       "    </tr>\n",
       "    <tr>\n",
       "      <th>4</th>\n",
       "      <td>Old Fashioned Butterscotch Pie Recipe #31698</td>\n",
       "      <td>192</td>\n",
       "      <td>120</td>\n",
       "      <td>63</td>\n",
       "      <td>12</td>\n",
       "      <td>?</td>\n",
       "      <td>?</td>\n",
       "    </tr>\n",
       "  </tbody>\n",
       "</table>\n",
       "</div>"
      ],
      "text/plain": [
       "                                               title kcal_total kcal_carb  \\\n",
       "0              Easy Light Chocolate Milkshake Recipe      257.1       220   \n",
       "1        Lamb Stew Recipe : : Recipes : Food Network          ?         ?   \n",
       "2  Chocolate Bread Pudding Recipe : Paula Deen : ...          ?         ?   \n",
       "3                         Snowball Cookies II Recipe          ?         ?   \n",
       "4       Old Fashioned Butterscotch Pie Recipe #31698        192       120   \n",
       "\n",
       "  kcal_fat kcal_protein mg_sodium mg_cholesterol  \n",
       "0      7.2         21.2      95.4            2.5  \n",
       "1        ?            ?         ?              ?  \n",
       "2        ?            ?         ?              ?  \n",
       "3        ?            ?         ?              ?  \n",
       "4       63           12         ?              ?  "
      ]
     },
     "execution_count": 2,
     "metadata": {},
     "output_type": "execute_result"
    }
   ],
   "source": [
    "nutri_data=raw_data[['title','kcal_total','kcal_carb','kcal_fat','kcal_protein','mg_sodium','mg_cholesterol']].copy()\n",
    "nutri_data.head(5)"
   ]
  },
  {
   "cell_type": "markdown",
   "metadata": {},
   "source": [
    "### Creating useful lists\n",
    "In the next section, we are loading lists (ingredient_list.txt, units_list.txt, technique_list.txt) which were created previously using the the function in 'list_creation.py'"
   ]
  },
  {
   "cell_type": "code",
   "execution_count": 3,
   "metadata": {
    "collapsed": true
   },
   "outputs": [],
   "source": [
    "# ----- Initializing and loading the list of techniques, units and ingredients created previously ----- #\n",
    "with open('units_list.txt', 'r') as f:\n",
    "    units_list = [line.rstrip('\\n') for line in f]\n",
    "    \n",
    "with open('technique_list.txt', 'r') as f:\n",
    "    techniques_list = [line.rstrip('\\n') for line in f]\n",
    "\n",
    "with open('ingredient_list.txt', 'r') as f:\n",
    "    ingredient_list = [line.rstrip('\\n') for line in f]"
   ]
  },
  {
   "cell_type": "markdown",
   "metadata": {},
   "source": [
    "## 2/ Preprocessing the ingredients data (Missing values, upper cases, natural language processing)"
   ]
  },
  {
   "cell_type": "code",
   "execution_count": 4,
   "metadata": {},
   "outputs": [
    {
     "data": {
      "text/html": [
       "<div>\n",
       "<style>\n",
       "    .dataframe thead tr:only-child th {\n",
       "        text-align: right;\n",
       "    }\n",
       "\n",
       "    .dataframe thead th {\n",
       "        text-align: left;\n",
       "    }\n",
       "\n",
       "    .dataframe tbody tr th {\n",
       "        vertical-align: top;\n",
       "    }\n",
       "</style>\n",
       "<table border=\"1\" class=\"dataframe\">\n",
       "  <thead>\n",
       "    <tr style=\"text-align: right;\">\n",
       "      <th></th>\n",
       "      <th>title</th>\n",
       "      <th>ingredients_list</th>\n",
       "      <th>ingredients_bag-of-words</th>\n",
       "    </tr>\n",
       "  </thead>\n",
       "  <tbody>\n",
       "    <tr>\n",
       "      <th>0</th>\n",
       "      <td>Easy Light Chocolate Milkshake Recipe</td>\n",
       "      <td>put one half cup of milk, 4 tablespoons of cho...</td>\n",
       "      <td>! , . 4 ? and are blend chocolate cup enjoy ex...</td>\n",
       "    </tr>\n",
       "    <tr>\n",
       "      <th>1</th>\n",
       "      <td>Lamb Stew Recipe : : Recipes : Food Network</td>\n",
       "      <td>5 yellow onions|2 turnips|5 carrots|1 stalk fe...</td>\n",
       "      <td>, 1 1\\/2 1\\/4 1\\/8 1Â 1\\/2 2 3 5 and anise app...</td>\n",
       "    </tr>\n",
       "    <tr>\n",
       "      <th>2</th>\n",
       "      <td>Chocolate Bread Pudding Recipe : Paula Deen : ...</td>\n",
       "      <td>1 (1-pound) loaf French or Italian bread, cube...</td>\n",
       "      <td>, -lrb- -rrb- 1 1-pound 1\\/2 1\\/4 1Â 1\\/2 2 3 ...</td>\n",
       "    </tr>\n",
       "    <tr>\n",
       "      <th>3</th>\n",
       "      <td>Snowball Cookies II Recipe</td>\n",
       "      <td>1/2 cup powdered sugar|1/3 cup butter or marga...</td>\n",
       "      <td>1 1\\/2 1\\/3 2 almond baking bisquick butter ch...</td>\n",
       "    </tr>\n",
       "    <tr>\n",
       "      <th>4</th>\n",
       "      <td>Old Fashioned Butterscotch Pie Recipe #31698</td>\n",
       "      <td>1 1/2 cup brown sugar|1 cup water|3 eggs|4 tab...</td>\n",
       "      <td>1 1\\/2 1\\/4 1Â 1\\/2 3 4 brown butter cream cup...</td>\n",
       "    </tr>\n",
       "  </tbody>\n",
       "</table>\n",
       "</div>"
      ],
      "text/plain": [
       "                                               title  \\\n",
       "0              Easy Light Chocolate Milkshake Recipe   \n",
       "1        Lamb Stew Recipe : : Recipes : Food Network   \n",
       "2  Chocolate Bread Pudding Recipe : Paula Deen : ...   \n",
       "3                         Snowball Cookies II Recipe   \n",
       "4       Old Fashioned Butterscotch Pie Recipe #31698   \n",
       "\n",
       "                                    ingredients_list  \\\n",
       "0  put one half cup of milk, 4 tablespoons of cho...   \n",
       "1  5 yellow onions|2 turnips|5 carrots|1 stalk fe...   \n",
       "2  1 (1-pound) loaf French or Italian bread, cube...   \n",
       "3  1/2 cup powdered sugar|1/3 cup butter or marga...   \n",
       "4  1 1/2 cup brown sugar|1 cup water|3 eggs|4 tab...   \n",
       "\n",
       "                            ingredients_bag-of-words  \n",
       "0  ! , . 4 ? and are blend chocolate cup enjoy ex...  \n",
       "1  , 1 1\\/2 1\\/4 1\\/8 1Â 1\\/2 2 3 5 and anise app...  \n",
       "2  , -lrb- -rrb- 1 1-pound 1\\/2 1\\/4 1Â 1\\/2 2 3 ...  \n",
       "3  1 1\\/2 1\\/3 2 almond baking bisquick butter ch...  \n",
       "4  1 1\\/2 1\\/4 1Â 1\\/2 3 4 brown butter cream cup...  "
      ]
     },
     "metadata": {},
     "output_type": "display_data"
    }
   ],
   "source": [
    "# ----- Make a dataframe with our data while dropping the NaN values ----- #\n",
    "ingr_dataframe=raw_data[['title','ingredients_list','ingredients_bag-of-words']].copy().dropna()\n",
    "ingr_dataframe = ingr_dataframe.reset_index(drop=True)\n",
    "display(ingr_dataframe.head())\n",
    "\n",
    "# Ignore upper case in the ingredients list string\n",
    "ingr_dataframe['ingredients_list']=ingr_dataframe['ingredients_list'].str.lower()\n",
    "\n",
    "#ingr_data_reduced=ingr_dataframe.head(100) # create a reduced data as draft to test when creating new functions"
   ]
  },
  {
   "cell_type": "code",
   "execution_count": 5,
   "metadata": {},
   "outputs": [
    {
     "ename": "NameError",
     "evalue": "name 'fun_add_preprocess' is not defined",
     "output_type": "error",
     "traceback": [
      "\u001b[0;31m---------------------------------------------------------------------------\u001b[0m",
      "\u001b[0;31mNameError\u001b[0m                                 Traceback (most recent call last)",
      "\u001b[0;32m<ipython-input-5-8b996cfda764>\u001b[0m in \u001b[0;36m<module>\u001b[0;34m()\u001b[0m\n\u001b[1;32m      2\u001b[0m \u001b[0;31m# We notice that for some ingredients in the ingredients list, the quantity is given twice with one quantity given in volume or mass within parenthesis\u001b[0m\u001b[0;34m\u001b[0m\u001b[0;34m\u001b[0m\u001b[0m\n\u001b[1;32m      3\u001b[0m \u001b[0;31m# Therefore, we apply the next function to return only the wanted quantity\u001b[0m\u001b[0;34m\u001b[0m\u001b[0;34m\u001b[0m\u001b[0m\n\u001b[0;32m----> 4\u001b[0;31m \u001b[0mfun_add_preprocess\u001b[0m\u001b[0;34m(\u001b[0m\u001b[0mingr_dataframe\u001b[0m\u001b[0;34m,\u001b[0m\u001b[0munits_list\u001b[0m\u001b[0;34m)\u001b[0m\u001b[0;34m\u001b[0m\u001b[0m\n\u001b[0m",
      "\u001b[0;31mNameError\u001b[0m: name 'fun_add_preprocess' is not defined"
     ]
    }
   ],
   "source": [
    "# ----- Function to process the text in the ingredient list ----- # cf pre_process.py\n",
    "# We notice that for some ingredients in the ingredients list, the quantity is given twice with one quantity given in volume or mass within parenthesis\n",
    "# Therefore, we apply the next function to return only the wanted quantity\n",
    "fun_add_preprocess(ingr_dataframe,units_list)"
   ]
  },
  {
   "cell_type": "markdown",
   "metadata": {},
   "source": [
    "### Convert all quantities in grams for later use"
   ]
  },
  {
   "cell_type": "code",
   "execution_count": 12,
   "metadata": {
    "collapsed": true
   },
   "outputs": [],
   "source": [
    "#Load the dataframe webscrapped\n",
    "unit_scraped=pd.read_csv('bbc_scraped.csv','\\t').dropna(how='all',axis=1)\n",
    "unit_scraped.set_index('Unnamed: 0',inplace=True)\n",
    "#unit_scraped.count(axis=0)\n",
    "#load the list created\n",
    "unit_created=pd.read_csv('BBC_unit.csv',sep=';')\n",
    "unit_created.set_index('Unnamed: 0',inplace=True)"
   ]
  },
  {
   "cell_type": "code",
   "execution_count": 13,
   "metadata": {
    "collapsed": true
   },
   "outputs": [],
   "source": [
    "#Could be enhanced (manually or scapping)\n",
    "#still a lot of ingredient have a default value of 200\n",
    "\n",
    "ingred_unit={}\n",
    "for index, row  in unit_scraped.iterrows():\n",
    "    units=[]\n",
    "    for i,quant in enumerate(list(row.dropna().index)):\n",
    "        quant=quant.replace(',','').lower()\n",
    "        if any(q in units_list+['slice']+['nlea'] for q in quant.split(' ') if len(q)>0):\n",
    "            a=1\n",
    "        else:\n",
    "            gram_val=float([re.sub('[^0-9]','',  row.dropna().values[i])][0])\n",
    "            units.append(gram_val)\n",
    "    if len(units)==0:\n",
    "        units=200\n",
    "    ingred_unit[index]=np.mean(units)\n",
    "    #print(list(row.dropna().index))\n",
    "    \n",
    "for index, row in unit_created.iterrows():\n",
    "    if index in ingred_unit:\n",
    "        print('Problem: it was a unit')\n",
    "    ingred_unit[index]=row['1 Unit']\n",
    "ingred_unit['clove']=2\n",
    "ingred_unit['egg']=50    "
   ]
  },
  {
   "cell_type": "markdown",
   "metadata": {},
   "source": [
    "### Extraction of ingredients for each recipe"
   ]
  },
  {
   "cell_type": "code",
   "execution_count": 14,
   "metadata": {},
   "outputs": [
    {
     "name": "stdout",
     "output_type": "stream",
     "text": [
      "2 small skin-on, bone-in chicken breasts|2 skin-on, bone-in chicken thighs|2 bay leaves|1 small carrot, coarsely chopped|1 small onion, quartered|1/2 orange, sliced|salt|1 cup organic ketchup|2 tablespoons dijon mustard|2 tablespoons dark brown sugar|2 tablespoons maple syrup|2 tablespoons cider vinegar|2 tablespoons worcestershire sauce|1 teaspoon coarsely ground pepper|2 shots of bourbon|2 large cloves garlic, finely chopped|juice of 1/2 orange|1/3 cup vegetable oil or olive oil|3 tablespoons cider vinegar|1 tablespoon superfine sugar|about 1 1/2 teaspoons sea salt or kosher salt|juice of 1 lemon|1/2 red onion, grated|salt and freshly ground pepper|1/2 pound cabbage , shredded|1 large green apple, peeled and coarsely grated|brioche rolls, split|bread-and-butter pickles, for topping\n"
     ]
    },
    {
     "data": {
      "text/plain": [
       "{'apple': 163.75,\n",
       " 'bay leaf': 400.0,\n",
       " 'brioche': 200.0,\n",
       " 'brown sugar': 30.0,\n",
       " 'cabbage': 226.5,\n",
       " 'carrot': 58.6,\n",
       " 'chicken breast': 500.0,\n",
       " 'chicken thigh': 500.0,\n",
       " 'dijon mustard': 30.0,\n",
       " 'garlic': 180.0,\n",
       " 'ketchup': 237.0,\n",
       " 'lemon': 71.0,\n",
       " 'maple syrup': 30.0,\n",
       " 'olive oil': 79.0,\n",
       " 'onion': 97.5,\n",
       " 'orange': 55.5,\n",
       " 'pepper': 51.3333333333,\n",
       " 'pickle': 66.75,\n",
       " 'red onion': 35.0,\n",
       " 'salt': 4.0,\n",
       " 'sea salt': 5.0,\n",
       " 'sugar': 15.0,\n",
       " 'vinegar': 45.0,\n",
       " 'worcestershire sauce': 30.0}"
      ]
     },
     "execution_count": 14,
     "metadata": {},
     "output_type": "execute_result"
    }
   ],
   "source": [
    "# !!!!! ----- Test cell : to inspect a specific recipe ----- !!!!!! #\n",
    "def test_receipe(k):\n",
    "    receipe=ingr_dataframe.loc[k]['Recipe_preporcess']\n",
    "    print(receipe)\n",
    "    dic_ingr,dictec,wasted,wasted_numb=fun_extract_ingredients\\\n",
    "        (receipe,ingredient_list,techniques_list,units_list,ingred_unit\\\n",
    "         ,to_gram=True)\n",
    "    return dic_ingr\n",
    "test_receipe(46249)"
   ]
  },
  {
   "cell_type": "code",
   "execution_count": 15,
   "metadata": {},
   "outputs": [
    {
     "data": {
      "text/html": [
       "<div>\n",
       "<style>\n",
       "    .dataframe thead tr:only-child th {\n",
       "        text-align: right;\n",
       "    }\n",
       "\n",
       "    .dataframe thead th {\n",
       "        text-align: left;\n",
       "    }\n",
       "\n",
       "    .dataframe tbody tr th {\n",
       "        vertical-align: top;\n",
       "    }\n",
       "</style>\n",
       "<table border=\"1\" class=\"dataframe\">\n",
       "  <thead>\n",
       "    <tr style=\"text-align: right;\">\n",
       "      <th></th>\n",
       "      <th>acidulated water</th>\n",
       "      <th>acorn squash</th>\n",
       "      <th>agave</th>\n",
       "      <th>ale</th>\n",
       "      <th>aleppo pepper</th>\n",
       "      <th>alfalfa sprout</th>\n",
       "      <th>allspice</th>\n",
       "      <th>almond</th>\n",
       "      <th>almond extract</th>\n",
       "      <th>almond milk</th>\n",
       "      <th>...</th>\n",
       "      <th>worcestershire sauce</th>\n",
       "      <th>wrap</th>\n",
       "      <th>yam</th>\n",
       "      <th>yeast</th>\n",
       "      <th>yellow lentil</th>\n",
       "      <th>yoghurt</th>\n",
       "      <th>yogurt</th>\n",
       "      <th>yuzu</th>\n",
       "      <th>zest</th>\n",
       "      <th>zucchini</th>\n",
       "    </tr>\n",
       "  </thead>\n",
       "  <tbody>\n",
       "    <tr>\n",
       "      <th>0</th>\n",
       "      <td>NaN</td>\n",
       "      <td>NaN</td>\n",
       "      <td>NaN</td>\n",
       "      <td>NaN</td>\n",
       "      <td>NaN</td>\n",
       "      <td>NaN</td>\n",
       "      <td>NaN</td>\n",
       "      <td>NaN</td>\n",
       "      <td>NaN</td>\n",
       "      <td>NaN</td>\n",
       "      <td>...</td>\n",
       "      <td>NaN</td>\n",
       "      <td>NaN</td>\n",
       "      <td>NaN</td>\n",
       "      <td>NaN</td>\n",
       "      <td>NaN</td>\n",
       "      <td>NaN</td>\n",
       "      <td>NaN</td>\n",
       "      <td>NaN</td>\n",
       "      <td>NaN</td>\n",
       "      <td>NaN</td>\n",
       "    </tr>\n",
       "    <tr>\n",
       "      <th>1</th>\n",
       "      <td>NaN</td>\n",
       "      <td>NaN</td>\n",
       "      <td>NaN</td>\n",
       "      <td>NaN</td>\n",
       "      <td>NaN</td>\n",
       "      <td>NaN</td>\n",
       "      <td>NaN</td>\n",
       "      <td>NaN</td>\n",
       "      <td>NaN</td>\n",
       "      <td>NaN</td>\n",
       "      <td>...</td>\n",
       "      <td>NaN</td>\n",
       "      <td>NaN</td>\n",
       "      <td>NaN</td>\n",
       "      <td>NaN</td>\n",
       "      <td>NaN</td>\n",
       "      <td>NaN</td>\n",
       "      <td>NaN</td>\n",
       "      <td>NaN</td>\n",
       "      <td>29.625</td>\n",
       "      <td>NaN</td>\n",
       "    </tr>\n",
       "    <tr>\n",
       "      <th>2</th>\n",
       "      <td>NaN</td>\n",
       "      <td>NaN</td>\n",
       "      <td>NaN</td>\n",
       "      <td>NaN</td>\n",
       "      <td>NaN</td>\n",
       "      <td>NaN</td>\n",
       "      <td>NaN</td>\n",
       "      <td>NaN</td>\n",
       "      <td>10.0</td>\n",
       "      <td>NaN</td>\n",
       "      <td>...</td>\n",
       "      <td>NaN</td>\n",
       "      <td>NaN</td>\n",
       "      <td>NaN</td>\n",
       "      <td>NaN</td>\n",
       "      <td>NaN</td>\n",
       "      <td>NaN</td>\n",
       "      <td>NaN</td>\n",
       "      <td>NaN</td>\n",
       "      <td>NaN</td>\n",
       "      <td>NaN</td>\n",
       "    </tr>\n",
       "    <tr>\n",
       "      <th>3</th>\n",
       "      <td>NaN</td>\n",
       "      <td>NaN</td>\n",
       "      <td>NaN</td>\n",
       "      <td>NaN</td>\n",
       "      <td>NaN</td>\n",
       "      <td>NaN</td>\n",
       "      <td>NaN</td>\n",
       "      <td>NaN</td>\n",
       "      <td>5.0</td>\n",
       "      <td>NaN</td>\n",
       "      <td>...</td>\n",
       "      <td>NaN</td>\n",
       "      <td>NaN</td>\n",
       "      <td>NaN</td>\n",
       "      <td>NaN</td>\n",
       "      <td>NaN</td>\n",
       "      <td>NaN</td>\n",
       "      <td>NaN</td>\n",
       "      <td>NaN</td>\n",
       "      <td>NaN</td>\n",
       "      <td>NaN</td>\n",
       "    </tr>\n",
       "    <tr>\n",
       "      <th>4</th>\n",
       "      <td>NaN</td>\n",
       "      <td>NaN</td>\n",
       "      <td>NaN</td>\n",
       "      <td>NaN</td>\n",
       "      <td>NaN</td>\n",
       "      <td>NaN</td>\n",
       "      <td>NaN</td>\n",
       "      <td>NaN</td>\n",
       "      <td>NaN</td>\n",
       "      <td>NaN</td>\n",
       "      <td>...</td>\n",
       "      <td>NaN</td>\n",
       "      <td>NaN</td>\n",
       "      <td>NaN</td>\n",
       "      <td>NaN</td>\n",
       "      <td>NaN</td>\n",
       "      <td>NaN</td>\n",
       "      <td>NaN</td>\n",
       "      <td>NaN</td>\n",
       "      <td>NaN</td>\n",
       "      <td>NaN</td>\n",
       "    </tr>\n",
       "  </tbody>\n",
       "</table>\n",
       "<p>5 rows × 863 columns</p>\n",
       "</div>"
      ],
      "text/plain": [
       "   acidulated water  acorn squash  agave  ale  aleppo pepper  alfalfa sprout  \\\n",
       "0               NaN           NaN    NaN  NaN            NaN             NaN   \n",
       "1               NaN           NaN    NaN  NaN            NaN             NaN   \n",
       "2               NaN           NaN    NaN  NaN            NaN             NaN   \n",
       "3               NaN           NaN    NaN  NaN            NaN             NaN   \n",
       "4               NaN           NaN    NaN  NaN            NaN             NaN   \n",
       "\n",
       "   allspice  almond  almond extract  almond milk    ...     \\\n",
       "0       NaN     NaN             NaN          NaN    ...      \n",
       "1       NaN     NaN             NaN          NaN    ...      \n",
       "2       NaN     NaN            10.0          NaN    ...      \n",
       "3       NaN     NaN             5.0          NaN    ...      \n",
       "4       NaN     NaN             NaN          NaN    ...      \n",
       "\n",
       "   worcestershire sauce  wrap  yam  yeast  yellow lentil  yoghurt  yogurt  \\\n",
       "0                   NaN   NaN  NaN    NaN            NaN      NaN     NaN   \n",
       "1                   NaN   NaN  NaN    NaN            NaN      NaN     NaN   \n",
       "2                   NaN   NaN  NaN    NaN            NaN      NaN     NaN   \n",
       "3                   NaN   NaN  NaN    NaN            NaN      NaN     NaN   \n",
       "4                   NaN   NaN  NaN    NaN            NaN      NaN     NaN   \n",
       "\n",
       "   yuzu    zest  zucchini  \n",
       "0   NaN     NaN       NaN  \n",
       "1   NaN  29.625       NaN  \n",
       "2   NaN     NaN       NaN  \n",
       "3   NaN     NaN       NaN  \n",
       "4   NaN     NaN       NaN  \n",
       "\n",
       "[5 rows x 863 columns]"
      ]
     },
     "metadata": {},
     "output_type": "display_data"
    },
    {
     "name": "stdout",
     "output_type": "stream",
     "text": [
      "There are :  863 ingredients\n"
     ]
    }
   ],
   "source": [
    "#----- Use whole data frame to extract each ingredient with its quantity and unit by using the lists  ------ #\n",
    "\n",
    "ingr_data_reduced=ingr_dataframe.head(100)\n",
    "all_dic=[]\n",
    "all_dic_tec=[]\n",
    "not_used_ingr=[]\n",
    "wastes=0\n",
    "for index, row in ingr_dataframe.iterrows():\n",
    "    recipe=row['Recipe_preporcess']\n",
    "\n",
    "    # Function in str_functions.py to extract the ingredients for each recipe\n",
    "    dic_ingre,dictec,wasted_ingr,wasted_number=fun_extract_ingredients\\\n",
    "            (recipe,ingredient_list,techniques_list,units_list,ingred_unit,to_gram=True)\n",
    "    # Also convert each quantity in the same unit (grams) if to_gram is set to True\n",
    "    all_dic.append(dic_ingre)\n",
    "    all_dic_tec.append(dictec)\n",
    "\n",
    "# We implemented the number of ingredients which didn't fit the criteria \n",
    "# Then we plotted the ingredient that we threw away in order to complete manually our ingredient list with important ingredients that our list may miss\n",
    "    #not_used_ingr.append(wasted_ingr) \n",
    "    #wastes=wastes+wasted_number\n",
    "    \n",
    "# ----- Create the dataframe of all the ingredient and their quantities ----- #\n",
    "ingredients_frame = pd.DataFrame(data=all_dic)\n",
    "techniques_frame = pd.DataFrame(data =all_dic_tec)\n",
    "display(ingredients_frame.head(5))\n",
    "\n",
    "# ----- Print the number of ingredients ----- #\n",
    "print('There are : ',len(list(ingredients_frame)), 'ingredients')\n",
    "ingred_used={}\n",
    "for i in list(ingredients_frame):\n",
    "    ingred_used[i]=sum(ingredients_frame[i].value_counts())"
   ]
  },
  {
   "cell_type": "markdown",
   "metadata": {},
   "source": [
    "### Create dictionnary associated techniques"
   ]
  },
  {
   "cell_type": "code",
   "execution_count": 16,
   "metadata": {
    "collapsed": true
   },
   "outputs": [],
   "source": [
    "Ingr = techniques_frame.columns.tolist()\n",
    "def extract_tec(name):\n",
    "    temp = techniques_frame[name].dropna().values.tolist()\n",
    "    temp = list(filter(None, temp))\n",
    "\n",
    "    return(np.unique(temp))\n",
    "tec = list(map(lambda x : extract_tec(x).tolist(),Ingr))\n",
    "\n",
    "dict_tec = dict(zip(Ingr, tec))\n"
   ]
  },
  {
   "cell_type": "markdown",
   "metadata": {},
   "source": [
    "## Analysis of outliers"
   ]
  },
  {
   "cell_type": "code",
   "execution_count": 17,
   "metadata": {
    "collapsed": true
   },
   "outputs": [],
   "source": [
    "#function to get max quantities of ingredient and their\n",
    "# associated recipe\n",
    "def fun_maxQ(ingredients_frame):\n",
    "    max_dic={}\n",
    "    max_index={}\n",
    "    for ingr in list(ingredients_frame):\n",
    "        max_dic[ingr]=(ingredients_frame[ingr].max())\n",
    "        max_index[ingr]=ingredients_frame[ingr].idxmax()\n",
    "    return max_dic,max_index"
   ]
  },
  {
   "cell_type": "code",
   "execution_count": 18,
   "metadata": {},
   "outputs": [
    {
     "data": {
      "text/plain": [
       "[(362800.0, 'cake'),\n",
       " (282400.0, 'hominy'),\n",
       " (282400.0, 'broth'),\n",
       " (151600.0, 'mashed potato'),\n",
       " (150000.0, 'meat'),\n",
       " (121581.0, 'coconut'),\n",
       " (121344.0, 'flour'),\n",
       " (116617.5, 'broccoli'),\n",
       " (101200.0, 'soup'),\n",
       " (97644.0, 'milk')]"
      ]
     },
     "execution_count": 18,
     "metadata": {},
     "output_type": "execute_result"
    }
   ],
   "source": [
    "max_dic,max_index=fun_maxQ(ingredients_frame)\n",
    "max_ordered=sorted((value,key) for (key,value) in max_dic.items())\n",
    "#top 10 highest value\n",
    "max_ordered[::-1][0:10]"
   ]
  },
  {
   "cell_type": "code",
   "execution_count": 21,
   "metadata": {},
   "outputs": [
    {
     "data": {
      "image/png": "[encoded data removed]",
      "text/plain": [
       "<matplotlib.figure.Figure at 0x14950a3c8>"
      ]
     },
     "metadata": {},
     "output_type": "display_data"
    }
   ],
   "source": [
    "#plot variation of outliers for various ingredient\n",
    "#  as a function of the threshold\n",
    "plt.figure(figsize=(10,8))\n",
    "std_list=np.arange(1,10,0.1)\n",
    "testoutliers=['onion','beef','ham','milk']\n",
    "for ingr in testoutliers:\n",
    "    ratio_outliers=[]\n",
    "    for i in std_list:\n",
    "        axa=ingredients_frame[ingr].dropna()\n",
    "        m=np.mean(axa)\n",
    "        std=np.std(axa)\n",
    "        ratio_outliers.append(sum(axa>m+i*std)/len(axa)*100)\n",
    "        \n",
    "    plt.plot(std_list,ratio_outliers,label=ingr)\n",
    "plt.xlabel('Threshold ($\\sigma$)',fontsize=20)\n",
    "plt.ylabel('% of data considered as outliers',fontsize=20)\n",
    "plt.xticks(fontsize=20)\n",
    "plt.yticks(fontsize=20)\n",
    "plt.grid()\n",
    "plt.legend(fontsize=20)\n",
    "plt.savefig('./fig/ouliers_reject_T.pdf')\n",
    "plt.show()"
   ]
  },
  {
   "cell_type": "code",
   "execution_count": 33,
   "metadata": {},
   "outputs": [
    {
     "name": "stdout",
     "output_type": "stream",
     "text": [
      "99.8646209386\n"
     ]
    },
    {
     "data": {
      "image/png": "[encoded data removed]",
      "text/plain": [
       "<matplotlib.figure.Figure at 0x149c9bda0>"
      ]
     },
     "metadata": {},
     "output_type": "display_data"
    }
   ],
   "source": [
    "#plot boxplot of one ingred as a fu\n",
    "ingr='beef'\n",
    "axa=ingredients_frame[ingr].dropna()\n",
    "m=np.mean(axa)\n",
    "std=np.std(axa)\n",
    "ratio=sum(axa>m+7*std)/len(axa)\n",
    "perc_to_put=100-ratio*100\n",
    "print(perc_to_put)\n",
    "plt.boxplot(ingredients_frame[ingr].dropna().tolist(),whis=[5,perc_to_put])\n",
    "plt.xlabel(ingr)\n",
    "plt.ylabel('Grams')\n",
    "plt.show()"
   ]
  },
  {
   "cell_type": "code",
   "execution_count": 34,
   "metadata": {},
   "outputs": [
    {
     "data": {
      "image/png": "[encoded data removed]",
      "text/plain": [
       "<matplotlib.figure.Figure at 0x14a04f668>"
      ]
     },
     "metadata": {},
     "output_type": "display_data"
    }
   ],
   "source": [
    "#enable multiple plot for all ingredient in list to plot\n",
    "plt.figure(figsize=(10,8))\n",
    "toplot=testoutliers\n",
    "i=0\n",
    "for ingr in toplot:\n",
    "    axa=ingredients_frame[ingr].dropna()\n",
    "    m=np.mean(axa)\n",
    "    std=np.std(axa)\n",
    "    ratio=sum(axa>m+7*std)/len(axa)\n",
    "    perc_to_put=100-ratio*100\n",
    "    plt.boxplot(ingredients_frame[ingr].dropna().tolist(),positions=range(2+i,3+i),whis=[5,perc_to_put],showfliers=True)\n",
    "    i=i+1\n",
    "plt.xlabel('Ingredients',fontsize=20)\n",
    "plt.xticks(range(1,7),['']+testoutliers,rotation=15,fontsize=20)\n",
    "plt.yticks(fontsize=20)\n",
    "plt.ylabel('Grams',fontsize=20)\n",
    "plt.savefig('./fig/ouliers_distrib.pdf')\n",
    "plt.show()"
   ]
  },
  {
   "cell_type": "code",
   "execution_count": 35,
   "metadata": {},
   "outputs": [
    {
     "data": {
      "text/plain": [
       "(45600, 862)"
      ]
     },
     "execution_count": 35,
     "metadata": {},
     "output_type": "execute_result"
    }
   ],
   "source": [
    "to_delete=[]\n",
    "for ingr in list(ingredients_frame):\n",
    "    axa=ingredients_frame[ingr].dropna()\n",
    "    m=np.mean(axa)\n",
    "    std=np.std(axa)\n",
    "    for ind, row in axa.iteritems():\n",
    "        if (row>m+7*std) and (ind not in to_delete):\n",
    "            to_delete.append(ind)\n",
    "testframe=ingredients_frame.drop(to_delete).copy() \n",
    "#DROP the columns with only nan that could result from this operation\n",
    "testframe=testframe.dropna(how='all',axis=1)\n",
    "testframe.shape"
   ]
  },
  {
   "cell_type": "code",
   "execution_count": 19,
   "metadata": {},
   "outputs": [
    {
     "name": "stdout",
     "output_type": "stream",
     "text": [
      "1631     3784.0\n",
      "1625     1320.0\n",
      "9813      990.0\n",
      "366       948.0\n",
      "10493     948.0\n",
      "9539      906.0\n",
      "36658     870.0\n",
      "31859     812.0\n",
      "7215      711.0\n",
      "8994      711.0\n",
      "21095     711.0\n",
      "16758     660.0\n",
      "17624     660.0\n",
      "25884     660.0\n",
      "27754     660.0\n",
      "Name: hominy, dtype: float64\n",
      "1412 ozs yellow hominy |8 ozs corn |2 tbsps lemon juice|1 clove clove garlic|12 tsp ground cumin|14 tsp cayenne\n"
     ]
    },
    {
     "data": {
      "text/plain": [
       "{'cayenne': '14 tsp',\n",
       " 'corn': '8 ozs',\n",
       " 'cumin': '12 tsp',\n",
       " 'garlic': '1 90.0',\n",
       " 'hominy': '1412 ozs',\n",
       " 'lemon juice': '2 53.5'}"
      ]
     },
     "execution_count": 19,
     "metadata": {},
     "output_type": "execute_result"
    }
   ],
   "source": [
    "print(testframe['hominy'].nlargest(n=15, keep='first'))\n",
    "test_receipe(45135 ,False)"
   ]
  },
  {
   "cell_type": "code",
   "execution_count": 20,
   "metadata": {},
   "outputs": [
    {
     "data": {
      "text/plain": [
       "[(47000.0, 'liver'),\n",
       " (26781.0, 'macaroon'),\n",
       " (18925.0, 'peanut oil'),\n",
       " (18120.0, 'venison'),\n",
       " (16416.0, 'endive'),\n",
       " (15000.0, 'mussel'),\n",
       " (13923.0, 'pork loin'),\n",
       " (13136.0, 'watermelon'),\n",
       " (12684.0, 'cake'),\n",
       " (10860.0, 'pineapple')]"
      ]
     },
     "execution_count": 20,
     "metadata": {},
     "output_type": "execute_result"
    }
   ],
   "source": [
    "#Max quantities after outlier analysis\n",
    "max_dic,max_index=fun_maxQ(testframe)\n",
    "max_ordered=sorted((value,key) for (key,value) in max_dic.items())\n",
    "#top 10 highest value\n",
    "max_ordered[::-1][0:10]"
   ]
  },
  {
   "cell_type": "code",
   "execution_count": 21,
   "metadata": {},
   "outputs": [
    {
     "data": {
      "image/png": "[encoded data removed]",
      "text/plain": [
       "<matplotlib.figure.Figure at 0x1c20b2af98>"
      ]
     },
     "metadata": {},
     "output_type": "display_data"
    }
   ],
   "source": [
    "plt.figure(figsize=(10,8))\n",
    "i=0\n",
    "for ingr in testoutliers:\n",
    "    axa=testframe[ingr].dropna()\n",
    "    m=np.mean(axa)\n",
    "    std=np.std(axa)\n",
    "    ratio=sum(axa>m+9*std)/len(axa)\n",
    "    perc_to_put=100-ratio*100\n",
    "    plt.boxplot(testframe[ingr].dropna(),positions=range(2+i,3+i),whis=[0,perc_to_put],showfliers=True)\n",
    "    i=i+1\n",
    "#plt.boxplot(ingredients_frame['onion'].dropna(),positions=range(2,3),whis=[5,perc_to_put]),\\\n",
    "#plt.boxplot(ingredients_frame['beef'].dropna(),positions=range(3,4),whis=[5,perc_to_put])#,\\\n",
    "#plt.boxplot(ingredients_frame['milk'].dropna(),whis=[5,perc_to_put],positions=range(4,5))\n",
    "plt.xlabel('Ingredients',fontsize=20)\n",
    "plt.xticks(range(1,7),['']+testoutliers,rotation=15,fontsize=20)\n",
    "plt.yticks(fontsize=20)\n",
    "plt.ylabel('Grams',fontsize=20)\n",
    "plt.savefig('./fig/no_ouliers_distrib.pdf')\n",
    "plt.show()"
   ]
  },
  {
   "cell_type": "code",
   "execution_count": 22,
   "metadata": {},
   "outputs": [
    {
     "data": {
      "image/png": "[encoded data removed]",
      "text/plain": [
       "<matplotlib.figure.Figure at 0x1c20a937b8>"
      ]
     },
     "metadata": {},
     "output_type": "display_data"
    }
   ],
   "source": [
    "plt.boxplot([testframe['broccoli'].dropna().tolist(),testframe['zucchini'].dropna().tolist()],0,'1')\n",
    "plt.xlabel('Ingredient')\n",
    "plt.xticks(range(1,3),['broccoli','zucchini'],rotation=15)\n",
    "plt.ylabel('Grams')\n",
    "plt.show()"
   ]
  },
  {
   "cell_type": "code",
   "execution_count": null,
   "metadata": {
    "collapsed": true
   },
   "outputs": [],
   "source": [
    "#Delete ingredient that appears less than 10 times\n",
    "#occu=sorted((value,key) for (key,value) in ingred_used.items() if value<10)\n",
    "occu=sorted(key for (key,value) in ingred_used.items() if value<10)\n",
    "#ingredients_frame_bad_remov=testframe.copy()\n",
    "\n",
    "#delete recipe that have ingredient appearing a few times\n",
    "for index, row in testframe.iterrows():\n",
    "    if index%1000==0:\n",
    "        print(index)\n",
    "\n",
    "    for col in occu:\n",
    "        if not row.isnull()[col]:\n",
    "            testframe.drop(index,inplace=True)\n",
    "            break"
   ]
  },
  {
   "cell_type": "markdown",
   "metadata": {},
   "source": [
    "## Data Analysis"
   ]
  },
  {
   "cell_type": "code",
   "execution_count": 12,
   "metadata": {
    "scrolled": false
   },
   "outputs": [
    {
     "data": {
      "image/png": "[encoded data removed]",
      "text/plain": [
       "<matplotlib.figure.Figure at 0x215677b1898>"
      ]
     },
     "metadata": {},
     "output_type": "display_data"
    }
   ],
   "source": [
    "# ----- Sort the ingredients by occurrence ----- #\n",
    "occu=sorted((value,key) for (key,value) in ingred_used.items())\n",
    "occu[::-1]\n",
    "\n",
    "ing_occ = pd.DataFrame(occu[::-1]).head(20)\n",
    "ing_occ = ing_occ.sort_values(0,ascending=True)\n",
    "people = ing_occ[1].values\n",
    "score = ing_occ[0].values\n",
    "x_pos = np.arange(len(people))\n",
    "plt.figure(figsize=((10,10)))\n",
    "plt.barh(x_pos, score,align='center',color='#31a354')\n",
    "plt.xlabel('Number of appearances',fontsize =15)\n",
    "plt.xticks(fontsize =15)\n",
    "plt.yticks(x_pos,people, fontsize =15)\n",
    "plt.show()"
   ]
  },
  {
   "cell_type": "markdown",
   "metadata": {},
   "source": [
    "### Occurrence per category"
   ]
  },
  {
   "cell_type": "code",
   "execution_count": 13,
   "metadata": {},
   "outputs": [
    {
     "ename": "NameError",
     "evalue": "name 'categorie_dic' is not defined",
     "output_type": "error",
     "traceback": [
      "\u001b[1;31m---------------------------------------------------------------------------\u001b[0m",
      "\u001b[1;31mNameError\u001b[0m                                 Traceback (most recent call last)",
      "\u001b[1;32m<ipython-input-13-55ac58de9a1b>\u001b[0m in \u001b[0;36m<module>\u001b[1;34m()\u001b[0m\n\u001b[0;32m      1\u001b[0m \u001b[0moccu\u001b[0m\u001b[1;33m=\u001b[0m\u001b[0msorted\u001b[0m\u001b[1;33m(\u001b[0m\u001b[1;33m(\u001b[0m\u001b[0mvalue\u001b[0m\u001b[1;33m,\u001b[0m\u001b[0mkey\u001b[0m\u001b[1;33m)\u001b[0m \u001b[1;32mfor\u001b[0m \u001b[1;33m(\u001b[0m\u001b[0mkey\u001b[0m\u001b[1;33m,\u001b[0m\u001b[0mvalue\u001b[0m\u001b[1;33m)\u001b[0m \u001b[1;32min\u001b[0m \u001b[0mingred_used\u001b[0m\u001b[1;33m.\u001b[0m\u001b[0mitems\u001b[0m\u001b[1;33m(\u001b[0m\u001b[1;33m)\u001b[0m\u001b[1;33m)\u001b[0m\u001b[1;33m\u001b[0m\u001b[0m\n\u001b[1;32m----> 2\u001b[1;33m \u001b[0mx\u001b[0m \u001b[1;33m=\u001b[0m \u001b[0mlist\u001b[0m\u001b[1;33m(\u001b[0m\u001b[0mmap\u001b[0m\u001b[1;33m(\u001b[0m\u001b[1;32mlambda\u001b[0m \u001b[0mx\u001b[0m \u001b[1;33m:\u001b[0m \u001b[1;33m(\u001b[0m\u001b[0mx\u001b[0m\u001b[1;33m[\u001b[0m\u001b[1;36m0\u001b[0m\u001b[1;33m]\u001b[0m\u001b[1;33m,\u001b[0m\u001b[0mcategorie_dic\u001b[0m\u001b[1;33m[\u001b[0m\u001b[0mx\u001b[0m\u001b[1;33m[\u001b[0m\u001b[1;36m1\u001b[0m\u001b[1;33m]\u001b[0m\u001b[1;33m]\u001b[0m\u001b[1;33m)\u001b[0m\u001b[1;33m,\u001b[0m\u001b[0moccu\u001b[0m\u001b[1;33m[\u001b[0m\u001b[1;33m:\u001b[0m\u001b[1;33m:\u001b[0m\u001b[1;33m-\u001b[0m\u001b[1;36m1\u001b[0m\u001b[1;33m]\u001b[0m\u001b[1;33m)\u001b[0m\u001b[1;33m)\u001b[0m\u001b[1;33m\u001b[0m\u001b[0m\n\u001b[0m\u001b[0;32m      3\u001b[0m \u001b[0mcat\u001b[0m \u001b[1;33m=\u001b[0m \u001b[1;33m[\u001b[0m\u001b[1;33m[\u001b[0m\u001b[1;33m]\u001b[0m\u001b[1;33m,\u001b[0m\u001b[1;33m[\u001b[0m\u001b[1;33m]\u001b[0m\u001b[1;33m,\u001b[0m\u001b[1;33m[\u001b[0m\u001b[1;33m]\u001b[0m\u001b[1;33m,\u001b[0m\u001b[1;33m[\u001b[0m\u001b[1;33m]\u001b[0m\u001b[1;33m,\u001b[0m\u001b[1;33m[\u001b[0m\u001b[1;33m]\u001b[0m\u001b[1;33m,\u001b[0m\u001b[1;33m[\u001b[0m\u001b[1;33m]\u001b[0m\u001b[1;33m,\u001b[0m\u001b[1;33m[\u001b[0m\u001b[1;33m]\u001b[0m\u001b[1;33m]\u001b[0m\u001b[1;33m\u001b[0m\u001b[0m\n\u001b[0;32m      4\u001b[0m \u001b[1;32mfor\u001b[0m \u001b[0mi\u001b[0m \u001b[1;32min\u001b[0m \u001b[0mx\u001b[0m\u001b[1;33m:\u001b[0m\u001b[1;33m\u001b[0m\u001b[0m\n\u001b[0;32m      5\u001b[0m     \u001b[0mcat\u001b[0m\u001b[1;33m[\u001b[0m\u001b[0mi\u001b[0m\u001b[1;33m[\u001b[0m\u001b[1;36m1\u001b[0m\u001b[1;33m]\u001b[0m\u001b[1;33m]\u001b[0m\u001b[1;33m.\u001b[0m\u001b[0mappend\u001b[0m\u001b[1;33m(\u001b[0m\u001b[0mi\u001b[0m\u001b[1;33m[\u001b[0m\u001b[1;36m0\u001b[0m\u001b[1;33m]\u001b[0m\u001b[1;33m)\u001b[0m\u001b[1;33m\u001b[0m\u001b[0m\n",
      "\u001b[1;32m<ipython-input-13-55ac58de9a1b>\u001b[0m in \u001b[0;36m<lambda>\u001b[1;34m(x)\u001b[0m\n\u001b[0;32m      1\u001b[0m \u001b[0moccu\u001b[0m\u001b[1;33m=\u001b[0m\u001b[0msorted\u001b[0m\u001b[1;33m(\u001b[0m\u001b[1;33m(\u001b[0m\u001b[0mvalue\u001b[0m\u001b[1;33m,\u001b[0m\u001b[0mkey\u001b[0m\u001b[1;33m)\u001b[0m \u001b[1;32mfor\u001b[0m \u001b[1;33m(\u001b[0m\u001b[0mkey\u001b[0m\u001b[1;33m,\u001b[0m\u001b[0mvalue\u001b[0m\u001b[1;33m)\u001b[0m \u001b[1;32min\u001b[0m \u001b[0mingred_used\u001b[0m\u001b[1;33m.\u001b[0m\u001b[0mitems\u001b[0m\u001b[1;33m(\u001b[0m\u001b[1;33m)\u001b[0m\u001b[1;33m)\u001b[0m\u001b[1;33m\u001b[0m\u001b[0m\n\u001b[1;32m----> 2\u001b[1;33m \u001b[0mx\u001b[0m \u001b[1;33m=\u001b[0m \u001b[0mlist\u001b[0m\u001b[1;33m(\u001b[0m\u001b[0mmap\u001b[0m\u001b[1;33m(\u001b[0m\u001b[1;32mlambda\u001b[0m \u001b[0mx\u001b[0m \u001b[1;33m:\u001b[0m \u001b[1;33m(\u001b[0m\u001b[0mx\u001b[0m\u001b[1;33m[\u001b[0m\u001b[1;36m0\u001b[0m\u001b[1;33m]\u001b[0m\u001b[1;33m,\u001b[0m\u001b[0mcategorie_dic\u001b[0m\u001b[1;33m[\u001b[0m\u001b[0mx\u001b[0m\u001b[1;33m[\u001b[0m\u001b[1;36m1\u001b[0m\u001b[1;33m]\u001b[0m\u001b[1;33m]\u001b[0m\u001b[1;33m)\u001b[0m\u001b[1;33m,\u001b[0m\u001b[0moccu\u001b[0m\u001b[1;33m[\u001b[0m\u001b[1;33m:\u001b[0m\u001b[1;33m:\u001b[0m\u001b[1;33m-\u001b[0m\u001b[1;36m1\u001b[0m\u001b[1;33m]\u001b[0m\u001b[1;33m)\u001b[0m\u001b[1;33m)\u001b[0m\u001b[1;33m\u001b[0m\u001b[0m\n\u001b[0m\u001b[0;32m      3\u001b[0m \u001b[0mcat\u001b[0m \u001b[1;33m=\u001b[0m \u001b[1;33m[\u001b[0m\u001b[1;33m[\u001b[0m\u001b[1;33m]\u001b[0m\u001b[1;33m,\u001b[0m\u001b[1;33m[\u001b[0m\u001b[1;33m]\u001b[0m\u001b[1;33m,\u001b[0m\u001b[1;33m[\u001b[0m\u001b[1;33m]\u001b[0m\u001b[1;33m,\u001b[0m\u001b[1;33m[\u001b[0m\u001b[1;33m]\u001b[0m\u001b[1;33m,\u001b[0m\u001b[1;33m[\u001b[0m\u001b[1;33m]\u001b[0m\u001b[1;33m,\u001b[0m\u001b[1;33m[\u001b[0m\u001b[1;33m]\u001b[0m\u001b[1;33m,\u001b[0m\u001b[1;33m[\u001b[0m\u001b[1;33m]\u001b[0m\u001b[1;33m]\u001b[0m\u001b[1;33m\u001b[0m\u001b[0m\n\u001b[0;32m      4\u001b[0m \u001b[1;32mfor\u001b[0m \u001b[0mi\u001b[0m \u001b[1;32min\u001b[0m \u001b[0mx\u001b[0m\u001b[1;33m:\u001b[0m\u001b[1;33m\u001b[0m\u001b[0m\n\u001b[0;32m      5\u001b[0m     \u001b[0mcat\u001b[0m\u001b[1;33m[\u001b[0m\u001b[0mi\u001b[0m\u001b[1;33m[\u001b[0m\u001b[1;36m1\u001b[0m\u001b[1;33m]\u001b[0m\u001b[1;33m]\u001b[0m\u001b[1;33m.\u001b[0m\u001b[0mappend\u001b[0m\u001b[1;33m(\u001b[0m\u001b[0mi\u001b[0m\u001b[1;33m[\u001b[0m\u001b[1;36m0\u001b[0m\u001b[1;33m]\u001b[0m\u001b[1;33m)\u001b[0m\u001b[1;33m\u001b[0m\u001b[0m\n",
      "\u001b[1;31mNameError\u001b[0m: name 'categorie_dic' is not defined"
     ]
    }
   ],
   "source": [
    "occu=sorted((value,key) for (key,value) in ingred_used.items())\n",
    "x = list(map(lambda x : (x[0],categorie_dic[x[1]]),occu[::-1]))\n",
    "cat = [[],[],[],[],[],[],[]]\n",
    "for i in x:\n",
    "    cat[i[1]].append(i[0])"
   ]
  },
  {
   "cell_type": "code",
   "execution_count": 341,
   "metadata": {},
   "outputs": [
    {
     "ename": "NameError",
     "evalue": "name 'cat' is not defined",
     "output_type": "error",
     "traceback": [
      "\u001b[1;31m---------------------------------------------------------------------------\u001b[0m",
      "\u001b[1;31mNameError\u001b[0m                                 Traceback (most recent call last)",
      "\u001b[1;32m<ipython-input-341-2fdf06af9f8d>\u001b[0m in \u001b[0;36m<module>\u001b[1;34m()\u001b[0m\n\u001b[0;32m      1\u001b[0m \u001b[0mpeople\u001b[0m \u001b[1;33m=\u001b[0m \u001b[1;33m[\u001b[0m\u001b[1;34m'Other'\u001b[0m\u001b[1;33m,\u001b[0m\u001b[1;34m'Fruit'\u001b[0m\u001b[1;33m,\u001b[0m\u001b[1;34m'Vegetable'\u001b[0m\u001b[1;33m,\u001b[0m\u001b[1;34m'Sides'\u001b[0m\u001b[1;33m,\u001b[0m\u001b[1;34m'Meat'\u001b[0m\u001b[1;33m,\u001b[0m\u001b[1;34m'Dairy'\u001b[0m\u001b[1;33m,\u001b[0m\u001b[1;34m'Spice'\u001b[0m\u001b[1;33m]\u001b[0m\u001b[1;33m\u001b[0m\u001b[0m\n\u001b[1;32m----> 2\u001b[1;33m \u001b[0mscore\u001b[0m \u001b[1;33m=\u001b[0m \u001b[0mlist\u001b[0m\u001b[1;33m(\u001b[0m\u001b[0mmap\u001b[0m\u001b[1;33m(\u001b[0m\u001b[1;32mlambda\u001b[0m \u001b[0mx\u001b[0m \u001b[1;33m:\u001b[0m \u001b[0mnp\u001b[0m\u001b[1;33m.\u001b[0m\u001b[0msum\u001b[0m\u001b[1;33m(\u001b[0m\u001b[0mx\u001b[0m\u001b[1;33m)\u001b[0m\u001b[1;33m,\u001b[0m\u001b[0mcat\u001b[0m\u001b[1;33m)\u001b[0m\u001b[1;33m)\u001b[0m\u001b[1;33m\u001b[0m\u001b[0m\n\u001b[0m\u001b[0;32m      3\u001b[0m \u001b[0mx_pos\u001b[0m \u001b[1;33m=\u001b[0m \u001b[0mnp\u001b[0m\u001b[1;33m.\u001b[0m\u001b[0marange\u001b[0m\u001b[1;33m(\u001b[0m\u001b[0mlen\u001b[0m\u001b[1;33m(\u001b[0m\u001b[0mpeople\u001b[0m\u001b[1;33m)\u001b[0m\u001b[1;33m)\u001b[0m\u001b[1;33m\u001b[0m\u001b[0m\n\u001b[0;32m      4\u001b[0m \u001b[0mplt\u001b[0m\u001b[1;33m.\u001b[0m\u001b[0mfigure\u001b[0m\u001b[1;33m(\u001b[0m\u001b[0mfigsize\u001b[0m\u001b[1;33m=\u001b[0m\u001b[1;33m(\u001b[0m\u001b[1;33m(\u001b[0m\u001b[1;36m8\u001b[0m\u001b[1;33m,\u001b[0m\u001b[1;36m8\u001b[0m\u001b[1;33m)\u001b[0m\u001b[1;33m)\u001b[0m\u001b[1;33m)\u001b[0m\u001b[1;33m\u001b[0m\u001b[0m\n\u001b[0;32m      5\u001b[0m \u001b[0mplt\u001b[0m\u001b[1;33m.\u001b[0m\u001b[0mbarh\u001b[0m\u001b[1;33m(\u001b[0m\u001b[0mx_pos\u001b[0m\u001b[1;33m,\u001b[0m \u001b[0mscore\u001b[0m\u001b[1;33m,\u001b[0m\u001b[0malign\u001b[0m\u001b[1;33m=\u001b[0m\u001b[1;34m'center'\u001b[0m\u001b[1;33m,\u001b[0m\u001b[0mcolor\u001b[0m\u001b[1;33m=\u001b[0m\u001b[1;34m'#31a354'\u001b[0m\u001b[1;33m)\u001b[0m\u001b[1;33m\u001b[0m\u001b[0m\n",
      "\u001b[1;31mNameError\u001b[0m: name 'cat' is not defined"
     ]
    }
   ],
   "source": [
    "people = ['Other','Fruit','Vegetable','Sides','Meat','Dairy','Spice']\n",
    "score = list(map(lambda x : np.sum(x),cat))\n",
    "x_pos = np.arange(len(people))\n",
    "plt.figure(figsize=((8,8)))\n",
    "plt.barh(x_pos, score,align='center',color='#31a354')\n",
    "plt.xlabel('Number of appearances',fontsize =15)\n",
    "plt.xticks(fontsize =15)\n",
    "plt.yticks(x_pos,people, fontsize =15)\n",
    "plt.show()"
   ]
  },
  {
   "cell_type": "code",
   "execution_count": 342,
   "metadata": {
    "collapsed": true
   },
   "outputs": [],
   "source": [
    "a = ingredients_frame.count(axis=1).value_counts(sort =False)\n",
    "a = a.sort_index()\n"
   ]
  },
  {
   "cell_type": "code",
   "execution_count": 343,
   "metadata": {},
   "outputs": [
    {
     "data": {
      "image/png": "[encoded data removed]",
      "text/plain": [
       "<matplotlib.figure.Figure at 0x2151bac7c18>"
      ]
     },
     "metadata": {},
     "output_type": "display_data"
    }
   ],
   "source": [
    "people = a.index\n",
    "score = a.values\n",
    "x_pos = np.arange(len(people))\n",
    "plt.figure(figsize=((14,10)))\n",
    "plt.bar(x_pos, score,align='center',color='#3182bd')\n",
    "plt.ylabel('Number of recipe',fontsize =15)\n",
    "plt.xlabel('Number of ingredients per recipe',fontsize =15)\n",
    "plt.yticks( fontsize =15)\n",
    "plt.xticks(x_pos,people, fontsize =15)\n",
    "plt.show()"
   ]
  },
  {
   "cell_type": "code",
   "execution_count": 344,
   "metadata": {
    "collapsed": true
   },
   "outputs": [],
   "source": [
    "a = list(map(lambda x : ingredients_frame.loc[x].dropna(),range(ingredients_frame.shape[0])))"
   ]
  },
  {
   "cell_type": "code",
   "execution_count": null,
   "metadata": {
    "collapsed": true
   },
   "outputs": [],
   "source": [
    "meat = 0\n",
    "\n",
    "for i in a:\n",
    "    for j in i.index:\n",
    "        if categorie_dic[j] == 4:\n",
    "            meat +=1\n",
    "            break\n",
    "            \n",
    "print('Percentage of vegetarian recipe: ',(ingredients_frame.shape[0]- meat)/ingredients_frame.shape[0],'%')"
   ]
  },
  {
   "cell_type": "code",
   "execution_count": null,
   "metadata": {
    "collapsed": true
   },
   "outputs": [],
   "source": [
    "meat_dairy = 0\n",
    "\n",
    "for i in a:\n",
    "    for j in i.index:\n",
    "        if categorie_dic[j] == 4:\n",
    "            meat_dairy +=1\n",
    "            break\n",
    "        if categorie_dic[j] == 5:\n",
    "            meat_dairy +=1\n",
    "            break\n",
    "            \n",
    "print('Percentage of vegan recipe: ',(ingredients_frame.shape[0]- meat_dairy)/ingredients_frame.shape[0],'%')"
   ]
  }
 ],
 "metadata": {
  "kernelspec": {
   "display_name": "Python 3",
   "language": "python",
   "name": "python3"
  },
  "language_info": {
   "codemirror_mode": {
    "name": "ipython",
    "version": 3
   },
   "file_extension": ".py",
   "mimetype": "text/x-python",
   "name": "python",
   "nbconvert_exporter": "python",
   "pygments_lexer": "ipython3",
   "version": "3.6.1"
  }
 },
 "nbformat": 4,
 "nbformat_minor": 2
}
